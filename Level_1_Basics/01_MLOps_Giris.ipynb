{
 "cells": [
  {
   "cell_type": "markdown",
   "id": "563fd1dc",
   "metadata": {},
   "source": [
    "# MLOps Nedir? - Temel Kavramlar\n",
    "\n",
    "## 🎯 Bu Bölümde Öğrenecekleriniz:\n",
    "- MLOps'un tanımı ve önemi\n",
    "- Geleneksel ML ile MLOps arasındaki farklar\n",
    "- MLOps yaşam döngüsü\n",
    "- Temel araçlar ve teknolojiler\n",
    "\n",
    "---"
   ]
  },
  {
   "cell_type": "markdown",
   "id": "001ae782",
   "metadata": {},
   "source": [
    "## 1. MLOps Nedir?\n",
    "\n",
    "**MLOps (Machine Learning Operations)**, makine öğrenmesi modellerinin geliştirme, dağıtım ve bakımını otomatikleştiren bir dizi uygulamadır.\n",
    "\n",
    "### Temel Bileşenler:\n",
    "- **Development (Geliştirme)**: Model tasarımı ve eğitimi\n",
    "- **Operations (Operasyonlar)**: Model dağıtımı ve izleme\n",
    "- **Infrastructure (Altyapı)**: Ölçeklenebilir sistemler\n",
    "\n",
    "### Neden MLOps?\n",
    "1. **Hızlı Dağıtım**: Modelleri hızla üretime alma\n",
    "2. **Güvenilirlik**: Tutarlı ve tekrarlanabilir süreçler\n",
    "3. **Ölçeklenebilirlik**: Büyük ölçekte model yönetimi\n",
    "4. **İşbirliği**: Veri bilimciler ve mühendisler arası koordinasyon"
   ]
  },
  {
   "cell_type": "markdown",
   "id": "a7dcd226",
   "metadata": {},
   "source": [
    "## 2. Geleneksel ML vs MLOps\n",
    "\n",
    "| Aspect | Geleneksel ML | MLOps |\n",
    "|--------|---------------|-------|\n",
    "| **Geliştirme** | Manuel, Ad-hoc | Otomatik, Sistematik |\n",
    "| **Dağıtım** | Elle yapılan | CI/CD pipeline |\n",
    "| **İzleme** | Sınırlı | Sürekli monitoring |\n",
    "| **Versiyon Kontrolü** | Kod için | Kod + Veri + Model |\n",
    "| **Ölçeklenebilirlik** | Zorlu | Otomatik |\n",
    "| **Tekrarlanabilirlik** | Düşük | Yüksek |\n",
    "| **İşbirliği** | Silolar halinde | Cross-functional teams |"
   ]
  },
  {
   "cell_type": "markdown",
   "id": "e344bb11",
   "metadata": {},
   "source": [
    "## 3. MLOps Araçları ve Teknolojiler\n",
    "\n",
    "### 🔧 Temel Araç Kategorileri:\n",
    "\n",
    "#### **Veri Yönetimi:**\n",
    "- **DVC (Data Version Control)**: Veri versiyonlama\n",
    "- **Apache Airflow**: Veri pipeline orkestrasyon\n",
    "- **Feast**: Feature store\n",
    "\n",
    "#### **Model Geliştirme:**\n",
    "- **MLflow**: ML yaşam döngüsü yönetimi\n",
    "- **Weights & Biases**: Experiment tracking\n",
    "- **Neptune**: ML metadata store\n",
    "\n",
    "#### **Model Dağıtımı:**\n",
    "- **Docker**: Konteynerizasyon\n",
    "- **Kubernetes**: Orkestrasyon\n",
    "- **Seldon Core**: Model serving\n",
    "- **BentoML**: Model packaging\n",
    "\n",
    "#### **İzleme ve Monitoring:**\n",
    "- **Prometheus**: Metrics collection\n",
    "- **Grafana**: Visualization\n",
    "- **Evidently**: ML monitoring\n",
    "- **WhyLabs**: Data quality monitoring"
   ]
  },
  {
   "cell_type": "markdown",
   "id": "4f1b698b",
   "metadata": {},
   "source": [
    "## 4. İlk MLOps Projesi için Hazırlık\n",
    "\n",
    "### 🚀 Gerekli Kurulumlar\n",
    "\n",
    "Bu eğitim boyunca kullanacağımız temel kütüphaneleri kuralım:"
   ]
  },
  {
   "cell_type": "markdown",
   "id": "17f84a4a",
   "metadata": {},
   "source": [
    "## 5. İlk MLOps Denemesi\n",
    "\n",
    "Basit bir makine öğrenmesi modelini MLOps prensiplerine uygun şekilde geliştirelim:"
   ]
  },
  {
   "cell_type": "code",
   "execution_count": 5,
   "id": "e6e02f36",
   "metadata": {},
   "outputs": [
    {
     "name": "stderr",
     "output_type": "stream",
     "text": [
      "2025/06/28 23:11:01 INFO mlflow.tracking.fluent: Experiment with name 'iris-classification' does not exist. Creating a new experiment.\n",
      "2025/06/28 23:11:01 WARNING mlflow.models.model: `artifact_path` is deprecated. Please use `name` instead.\n",
      "2025/06/28 23:11:01 WARNING mlflow.models.model: `artifact_path` is deprecated. Please use `name` instead.\n"
     ]
    },
    {
     "name": "stdout",
     "output_type": "stream",
     "text": [
      "📊 Veri yükleniyor...\n",
      "🤖 Model eğitiliyor...\n",
      "📈 Model değerlendiriliyor...\n"
     ]
    },
    {
     "name": "stderr",
     "output_type": "stream",
     "text": [
      "2025/06/28 23:11:04 WARNING mlflow.models.model: Model logged without a signature and input example. Please set `input_example` parameter when logging the model to auto infer the model signature.\n"
     ]
    },
    {
     "name": "stdout",
     "output_type": "stream",
     "text": [
      "\n",
      "✅ Model eğitimi tamamlandı!\n",
      "🎯 Doğruluk: 1.0000\n",
      "📊 Classification Report:\n",
      "              precision    recall  f1-score   support\n",
      "\n",
      "      setosa       1.00      1.00      1.00        10\n",
      "  versicolor       1.00      1.00      1.00         9\n",
      "   virginica       1.00      1.00      1.00        11\n",
      "\n",
      "    accuracy                           1.00        30\n",
      "   macro avg       1.00      1.00      1.00        30\n",
      "weighted avg       1.00      1.00      1.00        30\n",
      "\n"
     ]
    }
   ],
   "source": [
    "# Basit bir MLOps örneği\n",
    "import mlflow\n",
    "import mlflow.sklearn\n",
    "from sklearn.datasets import load_iris\n",
    "from sklearn.model_selection import train_test_split\n",
    "from sklearn.ensemble import RandomForestClassifier\n",
    "from sklearn.metrics import accuracy_score, classification_report\n",
    "import pandas as pd\n",
    "\n",
    "# MLflow experiment ayarla\n",
    "mlflow.set_experiment(\"iris-classification\")\n",
    "\n",
    "with mlflow.start_run():\n",
    "    # 1. Veri yükleme ve hazırlama\n",
    "    print(\"📊 Veri yükleniyor...\")\n",
    "    iris = load_iris()\n",
    "    X, y = iris.data, iris.target\n",
    "    \n",
    "    # Veri setini böl\n",
    "    X_train, X_test, y_train, y_test = train_test_split(\n",
    "        X, y, test_size=0.2, random_state=42\n",
    "    )\n",
    "    \n",
    "    # 2. Model parametreleri\n",
    "    n_estimators = 100\n",
    "    max_depth = 3\n",
    "    random_state = 42\n",
    "    \n",
    "    # Parametreleri kaydet\n",
    "    mlflow.log_param(\"n_estimators\", n_estimators)\n",
    "    mlflow.log_param(\"max_depth\", max_depth)\n",
    "    mlflow.log_param(\"random_state\", random_state)\n",
    "    \n",
    "    # 3. Model eğitimi\n",
    "    print(\"🤖 Model eğitiliyor...\")\n",
    "    model = RandomForestClassifier(\n",
    "        n_estimators=n_estimators,\n",
    "        max_depth=max_depth,\n",
    "        random_state=random_state\n",
    "    )\n",
    "    \n",
    "    model.fit(X_train, y_train)\n",
    "    \n",
    "    # 4. Model değerlendirme\n",
    "    print(\"📈 Model değerlendiriliyor...\")\n",
    "    y_pred = model.predict(X_test)\n",
    "    accuracy = accuracy_score(y_test, y_pred)\n",
    "    \n",
    "    # Metrikleri kaydet\n",
    "    mlflow.log_metric(\"accuracy\", accuracy)\n",
    "    mlflow.log_metric(\"train_samples\", len(X_train))\n",
    "    mlflow.log_metric(\"test_samples\", len(X_test))\n",
    "    \n",
    "    # 5. Model kaydetme\n",
    "    mlflow.sklearn.log_model(model, \"model\")\n",
    "    \n",
    "    print(f\"\\n✅ Model eğitimi tamamlandı!\")\n",
    "    print(f\"🎯 Doğruluk: {accuracy:.4f}\")\n",
    "    print(f\"📊 Classification Report:\")\n",
    "    print(classification_report(y_test, y_pred, target_names=iris.target_names))"
   ]
  },
  {
   "cell_type": "markdown",
   "id": "60238fd0",
   "metadata": {},
   "source": [
    "## 6. MLflow UI'yi Başlatma\n",
    "\n",
    "MLflow'un web arayüzünü başlatarak experimentlerimizi görselleştirebiliriz:"
   ]
  },
  {
   "cell_type": "code",
   "execution_count": 6,
   "id": "2c515552",
   "metadata": {},
   "outputs": [
    {
     "name": "stdout",
     "output_type": "stream",
     "text": [
      "🌐 MLflow UI'yi başlatmak için terminalde şu komutu çalıştırın:\n",
      "\n",
      "mlflow ui\n",
      "\n",
      "🔗 Ardından tarayıcınızda şu adresi açın: http://localhost:5000\n",
      "\n",
      "📊 Burada experiment'lerinizi, model'lerinizi ve metriklerinizi görebilirsiniz.\n"
     ]
    }
   ],
   "source": [
    "# MLflow UI başlatma talimatları\n",
    "print(\"🌐 MLflow UI'yi başlatmak için terminalde şu komutu çalıştırın:\")\n",
    "print(\"\")\n",
    "print(\"mlflow ui\")\n",
    "print(\"\")\n",
    "print(\"🔗 Ardından tarayıcınızda şu adresi açın: http://localhost:5000\")\n",
    "print(\"\")\n",
    "print(\"📊 Burada experiment'lerinizi, model'lerinizi ve metriklerinizi görebilirsiniz.\")"
   ]
  },
  {
   "cell_type": "markdown",
   "id": "a827ad77",
   "metadata": {},
   "source": [
    "## 🎯 Özet ve Sıradaki Adımlar\n",
    "\n",
    "### Bu Bölümde Öğrendiklerimiz:\n",
    "1. ✅ MLOps'un tanımı ve önemi\n",
    "2. ✅ Geleneksel ML ile MLOps arasındaki farklar\n",
    "3. ✅ MLOps yaşam döngüsü\n",
    "4. ✅ Temel araçlar ve teknolojiler\n",
    "5. ✅ İlk MLflow experiment'i\n",
    "\n",
    "### 🚀 Sıradaki Level: Data Pipeline\n",
    "Bir sonraki seviyede şunları öğreneceğiz:\n",
    "- Veri versiyonlama (DVC)\n",
    "- Veri kalitesi kontrolü\n",
    "- Feature engineering pipeline'ları\n",
    "- Veri drift detection\n",
    "\n",
    "### 📚 Ek Kaynaklar:\n",
    "- [MLflow Documentation](https://mlflow.org/docs/latest/index.html)\n",
    "- [Google MLOps Guide](https://cloud.google.com/architecture/mlops-continuous-delivery-and-automation-pipelines-in-machine-learning)\n",
    "- [MLOps Community](https://mlops.community/)\n",
    "\n",
    "---\n",
    "**🎉 Tebrikler! MLOps yolculuğunuzun ilk adımını tamamladınız!**"
   ]
  }
 ],
 "metadata": {
  "kernelspec": {
   "display_name": ".venv",
   "language": "python",
   "name": "python3"
  },
  "language_info": {
   "codemirror_mode": {
    "name": "ipython",
    "version": 3
   },
   "file_extension": ".py",
   "mimetype": "text/x-python",
   "name": "python",
   "nbconvert_exporter": "python",
   "pygments_lexer": "ipython3",
   "version": "3.13.2"
  }
 },
 "nbformat": 4,
 "nbformat_minor": 5
}
