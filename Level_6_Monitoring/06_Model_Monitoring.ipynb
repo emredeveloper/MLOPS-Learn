{
  "cells": [
    {
      "cell_type": "raw",
      "metadata": {
        "vscode": {
          "languageId": "raw"
        }
      },
      "source": [
        "# 📊 Level 6: Model Monitoring - Production'da İzleme\n",
        "\n",
        "## 🎯 Bu Bölümde Neler Öğreneceğiz?\n",
        "\n",
        "1. **Model Performance Monitoring**: Modelin performansını izleme\n",
        "2. **Data Drift Detection**: Veri kayması tespiti\n",
        "3. **Model Drift Detection**: Model performans kayması\n",
        "4. **Real-time Monitoring**: Gerçek zamanlı izleme sistemleri\n",
        "5. **Alerting Systems**: Uyarı sistemleri\n",
        "6. **Dashboard Creation**: Monitoring dashboard'ları\n",
        "\n",
        "### 🏗️ Monitoring Architecture\n",
        "\n",
        "```\n",
        "┌─────────────────┐    ┌─────────────────┐    ┌─────────────────┐\n",
        "│   Model API     │───▶│   Monitoring    │───▶│   Alerting      │\n",
        "│  (Predictions)  │    │   (Metrics)     │    │   (Slack/Email) │\n",
        "└─────────────────┘    └─────────────────┘    └─────────────────┘\n",
        "         │                       │                       │\n",
        "         ▼                       ▼                       ▼\n",
        "┌─────────────────┐    ┌─────────────────┐    ┌─────────────────┐\n",
        "│   Data Storage  │    │   Drift Det.    │    │   Dashboard     │\n",
        "│   (Logs/DB)     │    │   (Statistical) │    │   (Grafana)     │\n",
        "└─────────────────┘    └─────────────────┘    └─────────────────┘\n",
        "```\n",
        "\n",
        "---\n"
      ]
    },
    {
      "cell_type": "code",
      "execution_count": 1,
      "metadata": {},
      "outputs": [
        {
          "name": "stdout",
          "output_type": "stream",
          "text": [
            "📊 Tüm kütüphaneler başarıyla yüklendi!\n",
            "🔍 Model Monitoring eğitimine hazırız!\n",
            "📅 Başlangıç zamanı: 2025-07-07 00:03:52\n"
          ]
        }
      ],
      "source": [
        "# 📊 Gerekli kütüphaneleri yükleyelim\n",
        "import os\n",
        "import json\n",
        "import pickle\n",
        "import joblib\n",
        "import requests\n",
        "import time\n",
        "import sqlite3\n",
        "from datetime import datetime, timedelta\n",
        "from pathlib import Path\n",
        "import logging\n",
        "from typing import Dict, List, Optional, Tuple\n",
        "\n",
        "# Data processing\n",
        "import pandas as pd\n",
        "import numpy as np\n",
        "from scipy import stats\n",
        "from scipy.stats import ks_2samp, chi2_contingency\n",
        "\n",
        "# ML libraries\n",
        "from sklearn.datasets import fetch_california_housing\n",
        "from sklearn.model_selection import train_test_split\n",
        "from sklearn.preprocessing import StandardScaler\n",
        "from sklearn.ensemble import RandomForestRegressor\n",
        "from sklearn.metrics import mean_squared_error, r2_score, mean_absolute_error\n",
        "\n",
        "# Monitoring libraries\n",
        "import evidently\n",
        "from evidently.report import Report\n",
        "from evidently.metric_preset import DataDriftPreset, TargetDriftPreset\n",
        "from evidently.metrics import *\n",
        "\n",
        "# Visualization\n",
        "import matplotlib.pyplot as plt\n",
        "import seaborn as sns\n",
        "import plotly.graph_objects as go\n",
        "import plotly.express as px\n",
        "from plotly.subplots import make_subplots\n",
        "\n",
        "# System monitoring\n",
        "import psutil\n",
        "from prometheus_client import Counter, Histogram, Gauge, start_http_server\n",
        "\n",
        "# Alerting\n",
        "import smtplib\n",
        "from email.mime.text import MIMEText\n",
        "from email.mime.multipart import MIMEMultipart\n",
        "\n",
        "# Warnings\n",
        "import warnings\n",
        "warnings.filterwarnings('ignore')\n",
        "\n",
        "# Plotting ayarları\n",
        "plt.style.use('default')\n",
        "sns.set_palette(\"husl\")\n",
        "plt.rcParams['figure.figsize'] = (12, 8)\n",
        "\n",
        "print(\"📊 Tüm kütüphaneler başarıyla yüklendi!\")\n",
        "print(\"🔍 Model Monitoring eğitimine hazırız!\")\n",
        "print(f\"📅 Başlangıç zamanı: {datetime.now().strftime('%Y-%m-%d %H:%M:%S')}\")\n"
      ]
    },
    {
      "cell_type": "raw",
      "metadata": {
        "vscode": {
          "languageId": "raw"
        }
      },
      "source": [
        "## 1. Model Performance Monitoring\n",
        "\n",
        "İlk olarak bir model hazırlayıp, performansını izlemek için gerekli altyapıyı kuracağız:\n"
      ]
    },
    {
      "cell_type": "code",
      "execution_count": 2,
      "metadata": {},
      "outputs": [
        {
          "name": "stdout",
          "output_type": "stream",
          "text": [
            "📊 Monitoring veritabanı hazırlandı!\n",
            "✅ Model monitoring sistemi hazır!\n"
          ]
        }
      ],
      "source": [
        "class ModelMonitor:\n",
        "    \"\"\"Model performance monitoring sınıfı\"\"\"\n",
        "    \n",
        "    def __init__(self, db_path=\"monitoring.db\"):\n",
        "        self.db_path = db_path\n",
        "        self.setup_database()\n",
        "        self.setup_logging()\n",
        "        self.setup_metrics()\n",
        "        \n",
        "    def setup_database(self):\n",
        "        \"\"\"Monitoring veritabanını kur\"\"\"\n",
        "        conn = sqlite3.connect(self.db_path)\n",
        "        cursor = conn.cursor()\n",
        "        \n",
        "        # Predictions tablosu\n",
        "        cursor.execute('''\n",
        "            CREATE TABLE IF NOT EXISTS predictions (\n",
        "                id INTEGER PRIMARY KEY AUTOINCREMENT,\n",
        "                timestamp DATETIME,\n",
        "                model_version TEXT,\n",
        "                input_data TEXT,\n",
        "                prediction REAL,\n",
        "                actual_value REAL,\n",
        "                response_time REAL,\n",
        "                error_message TEXT\n",
        "            )\n",
        "        ''')\n",
        "        \n",
        "        # Metrics tablosu\n",
        "        cursor.execute('''\n",
        "            CREATE TABLE IF NOT EXISTS metrics (\n",
        "                id INTEGER PRIMARY KEY AUTOINCREMENT,\n",
        "                timestamp DATETIME,\n",
        "                metric_name TEXT,\n",
        "                metric_value REAL,\n",
        "                model_version TEXT\n",
        "            )\n",
        "        ''')\n",
        "        \n",
        "        # Drift detection tablosu\n",
        "        cursor.execute('''\n",
        "            CREATE TABLE IF NOT EXISTS drift_detection (\n",
        "                id INTEGER PRIMARY KEY AUTOINCREMENT,\n",
        "                timestamp DATETIME,\n",
        "                feature_name TEXT,\n",
        "                drift_score REAL,\n",
        "                is_drift BOOLEAN,\n",
        "                model_version TEXT\n",
        "            )\n",
        "        ''')\n",
        "        \n",
        "        conn.commit()\n",
        "        conn.close()\n",
        "        print(\"📊 Monitoring veritabanı hazırlandı!\")\n",
        "    \n",
        "    def setup_logging(self):\n",
        "        \"\"\"Logging sistemini kur\"\"\"\n",
        "        logging.basicConfig(\n",
        "            level=logging.INFO,\n",
        "            format='%(asctime)s - %(name)s - %(levelname)s - %(message)s',\n",
        "            handlers=[\n",
        "                logging.FileHandler('model_monitoring.log'),\n",
        "                logging.StreamHandler()\n",
        "            ]\n",
        "        )\n",
        "        self.logger = logging.getLogger('ModelMonitor')\n",
        "    \n",
        "    def setup_metrics(self):\n",
        "        \"\"\"Prometheus metrics'lerini kur\"\"\"\n",
        "        self.prediction_counter = Counter('model_predictions_total', 'Total predictions made')\n",
        "        self.prediction_latency = Histogram('model_prediction_duration_seconds', 'Prediction latency')\n",
        "        self.model_accuracy = Gauge('model_accuracy', 'Current model accuracy')\n",
        "        self.drift_gauge = Gauge('data_drift_score', 'Data drift score', ['feature'])\n",
        "    \n",
        "    def log_prediction(self, model_version, input_data, prediction, actual_value=None, \n",
        "                      response_time=None, error_message=None):\n",
        "        \"\"\"Tahmin sonucunu kaydet\"\"\"\n",
        "        conn = sqlite3.connect(self.db_path)\n",
        "        cursor = conn.cursor()\n",
        "        \n",
        "        cursor.execute('''\n",
        "            INSERT INTO predictions \n",
        "            (timestamp, model_version, input_data, prediction, actual_value, response_time, error_message)\n",
        "            VALUES (?, ?, ?, ?, ?, ?, ?)\n",
        "        ''', (\n",
        "            datetime.now(),\n",
        "            model_version,\n",
        "            json.dumps(input_data.tolist() if hasattr(input_data, 'tolist') else input_data),\n",
        "            prediction,\n",
        "            actual_value,\n",
        "            response_time,\n",
        "            error_message\n",
        "        ))\n",
        "        \n",
        "        conn.commit()\n",
        "        conn.close()\n",
        "        \n",
        "        # Prometheus metrics güncelle\n",
        "        self.prediction_counter.inc()\n",
        "        if response_time:\n",
        "            self.prediction_latency.observe(response_time)\n",
        "        \n",
        "        self.logger.info(f\"Prediction logged: {prediction}\")\n",
        "    \n",
        "    def log_metric(self, metric_name, metric_value, model_version):\n",
        "        \"\"\"Metric'i kaydet\"\"\"\n",
        "        conn = sqlite3.connect(self.db_path)\n",
        "        cursor = conn.cursor()\n",
        "        \n",
        "        cursor.execute('''\n",
        "            INSERT INTO metrics (timestamp, metric_name, metric_value, model_version)\n",
        "            VALUES (?, ?, ?, ?)\n",
        "        ''', (datetime.now(), metric_name, metric_value, model_version))\n",
        "        \n",
        "        conn.commit()\n",
        "        conn.close()\n",
        "        \n",
        "        # Prometheus metrics güncelle\n",
        "        if metric_name == 'accuracy':\n",
        "            self.model_accuracy.set(metric_value)\n",
        "        \n",
        "        self.logger.info(f\"Metric logged: {metric_name} = {metric_value}\")\n",
        "    \n",
        "    def get_predictions(self, hours=24):\n",
        "        \"\"\"Son X saatteki tahminleri getir\"\"\"\n",
        "        conn = sqlite3.connect(self.db_path)\n",
        "        \n",
        "        query = '''\n",
        "            SELECT * FROM predictions \n",
        "            WHERE timestamp > datetime('now', '-{} hours')\n",
        "            ORDER BY timestamp DESC\n",
        "        '''.format(hours)\n",
        "        \n",
        "        df = pd.read_sql_query(query, conn)\n",
        "        conn.close()\n",
        "        \n",
        "        return df\n",
        "    \n",
        "    def get_metrics(self, hours=24):\n",
        "        \"\"\"Son X saatteki metrics'leri getir\"\"\"\n",
        "        conn = sqlite3.connect(self.db_path)\n",
        "        \n",
        "        query = '''\n",
        "            SELECT * FROM metrics \n",
        "            WHERE timestamp > datetime('now', '-{} hours')\n",
        "            ORDER BY timestamp DESC\n",
        "        '''.format(hours)\n",
        "        \n",
        "        df = pd.read_sql_query(query, conn)\n",
        "        conn.close()\n",
        "        \n",
        "        return df\n",
        "\n",
        "# Monitor'u başlat\n",
        "monitor = ModelMonitor()\n",
        "print(\"✅ Model monitoring sistemi hazır!\")\n"
      ]
    },
    {
      "cell_type": "raw",
      "metadata": {
        "vscode": {
          "languageId": "raw"
        }
      },
      "source": [
        "## 2. Data Drift Detection\n",
        "\n",
        "Veri kayması (Data Drift) production'da en yaygın sorunlardan biridir. Modelin eğitildiği veriler ile production'da gelen veriler arasındaki farkları tespit etmek kritiktir:\n"
      ]
    },
    {
      "cell_type": "code",
      "execution_count": 3,
      "metadata": {},
      "outputs": [
        {
          "name": "stdout",
          "output_type": "stream",
          "text": [
            "🏠 California Housing veri seti yükleniyor...\n",
            "✅ Data drift detector hazır!\n",
            "📊 Feature sayısı: 8\n",
            "📊 Reference data boyutu: (16512, 8)\n"
          ]
        }
      ],
      "source": [
        "class DataDriftDetector:\n",
        "    \"\"\"Data drift detection sınıfı\"\"\"\n",
        "    \n",
        "    def __init__(self, reference_data, feature_names, threshold=0.05):\n",
        "        self.reference_data = reference_data\n",
        "        self.feature_names = feature_names\n",
        "        self.threshold = threshold\n",
        "        self.drift_history = []\n",
        "        \n",
        "    def detect_drift_ks_test(self, current_data):\n",
        "        \"\"\"Kolmogorov-Smirnov test ile drift detection\"\"\"\n",
        "        drift_results = {}\n",
        "        \n",
        "        for i, feature in enumerate(self.feature_names):\n",
        "            # KS test\n",
        "            ks_statistic, p_value = ks_2samp(\n",
        "                self.reference_data[:, i], \n",
        "                current_data[:, i]\n",
        "            )\n",
        "            \n",
        "            is_drift = p_value < self.threshold\n",
        "            \n",
        "            drift_results[feature] = {\n",
        "                'ks_statistic': ks_statistic,\n",
        "                'p_value': p_value,\n",
        "                'is_drift': is_drift,\n",
        "                'drift_score': ks_statistic\n",
        "            }\n",
        "            \n",
        "        return drift_results\n",
        "    \n",
        "    def detect_drift_psi(self, current_data, bins=10):\n",
        "        \"\"\"Population Stability Index (PSI) ile drift detection\"\"\"\n",
        "        drift_results = {}\n",
        "        \n",
        "        for i, feature in enumerate(self.feature_names):\n",
        "            # Histogram'ları hesapla\n",
        "            ref_hist, bin_edges = np.histogram(self.reference_data[:, i], bins=bins)\n",
        "            curr_hist, _ = np.histogram(current_data[:, i], bins=bin_edges)\n",
        "            \n",
        "            # Normalize et\n",
        "            ref_hist = ref_hist / ref_hist.sum()\n",
        "            curr_hist = curr_hist / curr_hist.sum()\n",
        "            \n",
        "            # PSI hesapla\n",
        "            psi = 0\n",
        "            for j in range(len(ref_hist)):\n",
        "                if ref_hist[j] > 0 and curr_hist[j] > 0:\n",
        "                    psi += (curr_hist[j] - ref_hist[j]) * np.log(curr_hist[j] / ref_hist[j])\n",
        "            \n",
        "            is_drift = psi > 0.1  # PSI > 0.1 genellikle drift olarak kabul edilir\n",
        "            \n",
        "            drift_results[feature] = {\n",
        "                'psi': psi,\n",
        "                'is_drift': is_drift,\n",
        "                'drift_score': psi\n",
        "            }\n",
        "            \n",
        "        return drift_results\n",
        "    \n",
        "    def detect_drift_evidently(self, current_data):\n",
        "        \"\"\"Evidently AI ile drift detection\"\"\"\n",
        "        # DataFrame'lere çevir\n",
        "        ref_df = pd.DataFrame(self.reference_data, columns=self.feature_names)\n",
        "        curr_df = pd.DataFrame(current_data, columns=self.feature_names)\n",
        "        \n",
        "        # Evidently report oluştur\n",
        "        report = Report(metrics=[\n",
        "            DataDriftPreset(),\n",
        "        ])\n",
        "        \n",
        "        report.run(reference_data=ref_df, current_data=curr_df)\n",
        "        \n",
        "        # Sonuçları al\n",
        "        drift_results = {}\n",
        "        report_dict = report.as_dict()\n",
        "        \n",
        "        if 'metrics' in report_dict:\n",
        "            for metric in report_dict['metrics']:\n",
        "                if metric['metric'] == 'DatasetDriftMetric':\n",
        "                    drift_results['dataset_drift'] = {\n",
        "                        'is_drift': metric['result']['dataset_drift'],\n",
        "                        'drift_score': metric['result']['drift_score'] if 'drift_score' in metric['result'] else 0\n",
        "                    }\n",
        "                    \n",
        "                    # Feature-level drift\n",
        "                    if 'drift_by_columns' in metric['result']:\n",
        "                        for feature, drift_info in metric['result']['drift_by_columns'].items():\n",
        "                            drift_results[feature] = {\n",
        "                                'is_drift': drift_info['drift_detected'],\n",
        "                                'drift_score': drift_info['drift_score'],\n",
        "                                'p_value': drift_info.get('stattest_pvalue', 0)\n",
        "                            }\n",
        "        \n",
        "        return drift_results\n",
        "    \n",
        "    def visualize_drift(self, current_data, feature_idx=0):\n",
        "        \"\"\"Drift görselleştirme\"\"\"\n",
        "        feature_name = self.feature_names[feature_idx]\n",
        "        \n",
        "        fig, axes = plt.subplots(2, 2, figsize=(15, 10))\n",
        "        \n",
        "        # Histogramlar\n",
        "        axes[0, 0].hist(self.reference_data[:, feature_idx], alpha=0.7, label='Reference', bins=30)\n",
        "        axes[0, 0].hist(current_data[:, feature_idx], alpha=0.7, label='Current', bins=30)\n",
        "        axes[0, 0].set_title(f'{feature_name} - Distribution Comparison')\n",
        "        axes[0, 0].legend()\n",
        "        \n",
        "        # Box plots\n",
        "        data_to_plot = [self.reference_data[:, feature_idx], current_data[:, feature_idx]]\n",
        "        axes[0, 1].boxplot(data_to_plot, labels=['Reference', 'Current'])\n",
        "        axes[0, 1].set_title(f'{feature_name} - Box Plot Comparison')\n",
        "        \n",
        "        # Q-Q plot\n",
        "        from scipy.stats import probplot\n",
        "        probplot(self.reference_data[:, feature_idx], dist=\"norm\", plot=axes[1, 0])\n",
        "        axes[1, 0].set_title(f'{feature_name} - Reference Q-Q Plot')\n",
        "        \n",
        "        probplot(current_data[:, feature_idx], dist=\"norm\", plot=axes[1, 1])\n",
        "        axes[1, 1].set_title(f'{feature_name} - Current Q-Q Plot')\n",
        "        \n",
        "        plt.tight_layout()\n",
        "        plt.show()\n",
        "    \n",
        "    def log_drift_results(self, drift_results, model_version, monitor):\n",
        "        \"\"\"Drift sonuçlarını kaydet\"\"\"\n",
        "        conn = sqlite3.connect(monitor.db_path)\n",
        "        cursor = conn.cursor()\n",
        "        \n",
        "        for feature, result in drift_results.items():\n",
        "            cursor.execute('''\n",
        "                INSERT INTO drift_detection \n",
        "                (timestamp, feature_name, drift_score, is_drift, model_version)\n",
        "                VALUES (?, ?, ?, ?, ?)\n",
        "            ''', (\n",
        "                datetime.now(),\n",
        "                feature,\n",
        "                result['drift_score'],\n",
        "                result['is_drift'],\n",
        "                model_version\n",
        "            ))\n",
        "            \n",
        "            # Prometheus metric güncelle\n",
        "            monitor.drift_gauge.labels(feature=feature).set(result['drift_score'])\n",
        "        \n",
        "        conn.commit()\n",
        "        conn.close()\n",
        "        \n",
        "        print(f\"✅ Drift detection sonuçları kaydedildi!\")\n",
        "\n",
        "# Demo için veri hazırla\n",
        "print(\"🏠 California Housing veri seti yükleniyor...\")\n",
        "california_housing = fetch_california_housing()\n",
        "X = california_housing.data\n",
        "feature_names = california_housing.feature_names\n",
        "\n",
        "# Reference data (training data)\n",
        "X_train, X_test, y_train, y_test = train_test_split(X, california_housing.target, test_size=0.2, random_state=42)\n",
        "\n",
        "# Drift detector oluştur\n",
        "drift_detector = DataDriftDetector(X_train, feature_names)\n",
        "\n",
        "print(\"✅ Data drift detector hazır!\")\n",
        "print(f\"📊 Feature sayısı: {len(feature_names)}\")\n",
        "print(f\"📊 Reference data boyutu: {X_train.shape}\")\n"
      ]
    },
    {
      "cell_type": "raw",
      "metadata": {
        "vscode": {
          "languageId": "raw"
        }
      },
      "source": [
        "## 3. Real-time Monitoring Dashboard\n",
        "\n",
        "Gerçek zamanlı monitoring için dashboard oluşturacağız:\n"
      ]
    },
    {
      "cell_type": "code",
      "execution_count": 4,
      "metadata": {},
      "outputs": [
        {
          "name": "stdout",
          "output_type": "stream",
          "text": [
            "✅ Monitoring dashboard hazır!\n"
          ]
        }
      ],
      "source": [
        "class MonitoringDashboard:\n",
        "    \"\"\"Real-time monitoring dashboard sınıfı\"\"\"\n",
        "    \n",
        "    def __init__(self, monitor):\n",
        "        self.monitor = monitor\n",
        "        \n",
        "    def create_performance_dashboard(self):\n",
        "        \"\"\"Model performance dashboard'u oluştur\"\"\"\n",
        "        # Son 24 saatteki verileri al\n",
        "        predictions_df = self.monitor.get_predictions(hours=24)\n",
        "        metrics_df = self.monitor.get_metrics(hours=24)\n",
        "        \n",
        "        if predictions_df.empty and metrics_df.empty:\n",
        "            print(\"⚠️ Dashboard için yeterli veri yok. Önce bazı tahminler yapın.\")\n",
        "            return\n",
        "        \n",
        "        # Subplots oluştur\n",
        "        fig = make_subplots(\n",
        "            rows=2, cols=2,\n",
        "            subplot_titles=('Prediction Count Over Time', 'Response Time Distribution', \n",
        "                          'Model Accuracy Over Time', 'Prediction vs Actual'),\n",
        "            specs=[[{\"secondary_y\": False}, {\"secondary_y\": False}],\n",
        "                   [{\"secondary_y\": False}, {\"secondary_y\": False}]]\n",
        "        )\n",
        "        \n",
        "        # 1. Prediction count over time\n",
        "        if not predictions_df.empty:\n",
        "            predictions_df['timestamp'] = pd.to_datetime(predictions_df['timestamp'])\n",
        "            hourly_counts = predictions_df.groupby(predictions_df['timestamp'].dt.hour).size()\n",
        "            \n",
        "            fig.add_trace(\n",
        "                go.Scatter(x=hourly_counts.index, y=hourly_counts.values, \n",
        "                          mode='lines+markers', name='Predictions/Hour'),\n",
        "                row=1, col=1\n",
        "            )\n",
        "        \n",
        "        # 2. Response time distribution\n",
        "        if not predictions_df.empty and 'response_time' in predictions_df.columns:\n",
        "            response_times = predictions_df['response_time'].dropna()\n",
        "            if not response_times.empty:\n",
        "                fig.add_trace(\n",
        "                    go.Histogram(x=response_times, name='Response Time (s)'),\n",
        "                    row=1, col=2\n",
        "                )\n",
        "        \n",
        "        # 3. Model accuracy over time\n",
        "        if not metrics_df.empty:\n",
        "            accuracy_metrics = metrics_df[metrics_df['metric_name'] == 'accuracy']\n",
        "            if not accuracy_metrics.empty:\n",
        "                accuracy_metrics['timestamp'] = pd.to_datetime(accuracy_metrics['timestamp'])\n",
        "                fig.add_trace(\n",
        "                    go.Scatter(x=accuracy_metrics['timestamp'], y=accuracy_metrics['metric_value'],\n",
        "                              mode='lines+markers', name='Accuracy'),\n",
        "                    row=2, col=1\n",
        "                )\n",
        "        \n",
        "        # 4. Prediction vs Actual (eğer actual values varsa)\n",
        "        if not predictions_df.empty and 'actual_value' in predictions_df.columns:\n",
        "            actual_values = predictions_df['actual_value'].dropna()\n",
        "            predictions = predictions_df[predictions_df['actual_value'].notna()]['prediction']\n",
        "            \n",
        "            if not actual_values.empty:\n",
        "                fig.add_trace(\n",
        "                    go.Scatter(x=actual_values, y=predictions, mode='markers',\n",
        "                              name='Pred vs Actual'),\n",
        "                    row=2, col=2\n",
        "                )\n",
        "                \n",
        "                # Perfect prediction line\n",
        "                min_val = min(actual_values.min(), predictions.min())\n",
        "                max_val = max(actual_values.max(), predictions.max())\n",
        "                fig.add_trace(\n",
        "                    go.Scatter(x=[min_val, max_val], y=[min_val, max_val],\n",
        "                              mode='lines', name='Perfect Prediction',\n",
        "                              line=dict(dash='dash', color='red')),\n",
        "                    row=2, col=2\n",
        "                )\n",
        "        \n",
        "        fig.update_layout(height=800, title_text=\"Model Performance Dashboard\")\n",
        "        fig.show()\n",
        "        \n",
        "        return fig\n",
        "    \n",
        "    def create_drift_dashboard(self, drift_results):\n",
        "        \"\"\"Data drift dashboard'u oluştur\"\"\"\n",
        "        if not drift_results:\n",
        "            print(\"⚠️ Drift detection sonuçları bulunamadı.\")\n",
        "            return\n",
        "        \n",
        "        # Drift scores\n",
        "        features = list(drift_results.keys())\n",
        "        drift_scores = [drift_results[f]['drift_score'] for f in features]\n",
        "        is_drift = [drift_results[f]['is_drift'] for f in features]\n",
        "        \n",
        "        # Renk kodlaması\n",
        "        colors = ['red' if drift else 'green' for drift in is_drift]\n",
        "        \n",
        "        fig = go.Figure()\n",
        "        \n",
        "        fig.add_trace(go.Bar(\n",
        "            x=features,\n",
        "            y=drift_scores,\n",
        "            marker_color=colors,\n",
        "            text=[f\"{'DRIFT' if drift else 'OK'}\" for drift in is_drift],\n",
        "            textposition='auto',\n",
        "            name='Drift Score'\n",
        "        ))\n",
        "        \n",
        "        fig.update_layout(\n",
        "            title=\"Data Drift Detection Results\",\n",
        "            xaxis_title=\"Features\",\n",
        "            yaxis_title=\"Drift Score\",\n",
        "            showlegend=False\n",
        "        )\n",
        "        \n",
        "        # Threshold line\n",
        "        fig.add_hline(y=0.1, line_dash=\"dash\", line_color=\"orange\", \n",
        "                     annotation_text=\"Drift Threshold\")\n",
        "        \n",
        "        fig.show()\n",
        "        \n",
        "        return fig\n",
        "    \n",
        "    def create_system_health_dashboard(self):\n",
        "        \"\"\"System health dashboard'u oluştur\"\"\"\n",
        "        # System metrics\n",
        "        cpu_percent = psutil.cpu_percent(interval=1)\n",
        "        memory = psutil.virtual_memory()\n",
        "        disk = psutil.disk_usage('/')\n",
        "        \n",
        "        # Gauge charts\n",
        "        fig = make_subplots(\n",
        "            rows=1, cols=3,\n",
        "            subplot_titles=('CPU Usage', 'Memory Usage', 'Disk Usage'),\n",
        "            specs=[[{\"type\": \"indicator\"}, {\"type\": \"indicator\"}, {\"type\": \"indicator\"}]]\n",
        "        )\n",
        "        \n",
        "        # CPU Gauge\n",
        "        fig.add_trace(go.Indicator(\n",
        "            mode=\"gauge+number\",\n",
        "            value=cpu_percent,\n",
        "            domain={'x': [0, 1], 'y': [0, 1]},\n",
        "            title={'text': \"CPU %\"},\n",
        "            gauge={'axis': {'range': [None, 100]},\n",
        "                   'bar': {'color': \"darkblue\"},\n",
        "                   'steps': [{'range': [0, 50], 'color': \"lightgray\"},\n",
        "                            {'range': [50, 80], 'color': \"yellow\"},\n",
        "                            {'range': [80, 100], 'color': \"red\"}],\n",
        "                   'threshold': {'line': {'color': \"red\", 'width': 4},\n",
        "                                'thickness': 0.75, 'value': 90}}\n",
        "        ), row=1, col=1)\n",
        "        \n",
        "        # Memory Gauge\n",
        "        fig.add_trace(go.Indicator(\n",
        "            mode=\"gauge+number\",\n",
        "            value=memory.percent,\n",
        "            domain={'x': [0, 1], 'y': [0, 1]},\n",
        "            title={'text': \"Memory %\"},\n",
        "            gauge={'axis': {'range': [None, 100]},\n",
        "                   'bar': {'color': \"darkgreen\"},\n",
        "                   'steps': [{'range': [0, 50], 'color': \"lightgray\"},\n",
        "                            {'range': [50, 80], 'color': \"yellow\"},\n",
        "                            {'range': [80, 100], 'color': \"red\"}],\n",
        "                   'threshold': {'line': {'color': \"red\", 'width': 4},\n",
        "                                'thickness': 0.75, 'value': 90}}\n",
        "        ), row=1, col=2)\n",
        "        \n",
        "        # Disk Gauge\n",
        "        fig.add_trace(go.Indicator(\n",
        "            mode=\"gauge+number\",\n",
        "            value=disk.percent,\n",
        "            domain={'x': [0, 1], 'y': [0, 1]},\n",
        "            title={'text': \"Disk %\"},\n",
        "            gauge={'axis': {'range': [None, 100]},\n",
        "                   'bar': {'color': \"darkorange\"},\n",
        "                   'steps': [{'range': [0, 50], 'color': \"lightgray\"},\n",
        "                            {'range': [50, 80], 'color': \"yellow\"},\n",
        "                            {'range': [80, 100], 'color': \"red\"}],\n",
        "                   'threshold': {'line': {'color': \"red\", 'width': 4},\n",
        "                                'thickness': 0.75, 'value': 90}}\n",
        "        ), row=1, col=3)\n",
        "        \n",
        "        fig.update_layout(height=400, title_text=\"System Health Monitoring\")\n",
        "        fig.show()\n",
        "        \n",
        "        return fig\n",
        "    \n",
        "    def generate_monitoring_report(self):\n",
        "        \"\"\"Kapsamlı monitoring raporu oluştur\"\"\"\n",
        "        print(\"📊 MONITORING REPORT\")\n",
        "        print(\"=\" * 50)\n",
        "        \n",
        "        # Sistem durumu\n",
        "        print(\"\\n🖥️  SYSTEM HEALTH:\")\n",
        "        print(f\"   CPU Usage: {psutil.cpu_percent(interval=1):.1f}%\")\n",
        "        print(f\"   Memory Usage: {psutil.virtual_memory().percent:.1f}%\")\n",
        "        print(f\"   Disk Usage: {psutil.disk_usage('/').percent:.1f}%\")\n",
        "        \n",
        "        # Son 24 saatteki aktivite\n",
        "        predictions_df = self.monitor.get_predictions(hours=24)\n",
        "        metrics_df = self.monitor.get_metrics(hours=24)\n",
        "        \n",
        "        print(f\"\\n📈 MODEL ACTIVITY (Last 24h):\")\n",
        "        print(f\"   Total Predictions: {len(predictions_df)}\")\n",
        "        \n",
        "        if not predictions_df.empty and 'response_time' in predictions_df.columns:\n",
        "            response_times = predictions_df['response_time'].dropna()\n",
        "            if not response_times.empty:\n",
        "                print(f\"   Avg Response Time: {response_times.mean():.3f}s\")\n",
        "                print(f\"   Max Response Time: {response_times.max():.3f}s\")\n",
        "        \n",
        "        if not metrics_df.empty:\n",
        "            latest_accuracy = metrics_df[metrics_df['metric_name'] == 'accuracy'].iloc[0] if not metrics_df[metrics_df['metric_name'] == 'accuracy'].empty else None\n",
        "            if latest_accuracy is not None:\n",
        "                print(f\"   Latest Accuracy: {latest_accuracy['metric_value']:.3f}\")\n",
        "        \n",
        "        print(\"\\n✅ Report generated successfully!\")\n",
        "\n",
        "# Dashboard oluştur\n",
        "dashboard = MonitoringDashboard(monitor)\n",
        "print(\"✅ Monitoring dashboard hazır!\")\n"
      ]
    },
    {
      "cell_type": "raw",
      "metadata": {
        "vscode": {
          "languageId": "raw"
        }
      },
      "source": [
        "## 4. Alerting System\n",
        "\n",
        "Kritik durumlar için otomatik uyarı sistemi kuracağız:\n"
      ]
    },
    {
      "cell_type": "code",
      "execution_count": null,
      "metadata": {},
      "outputs": [],
      "source": []
    },
    {
      "cell_type": "code",
      "execution_count": 5,
      "metadata": {},
      "outputs": [
        {
          "name": "stdout",
          "output_type": "stream",
          "text": [
            "✅ Alerting system hazır!\n"
          ]
        }
      ],
      "source": [
        "class AlertingSystem:\n",
        "    \"\"\"Otomatik uyarı sistemi sınıfı\"\"\"\n",
        "    \n",
        "    def __init__(self, monitor, alert_thresholds=None):\n",
        "        self.monitor = monitor\n",
        "        self.alert_thresholds = alert_thresholds or {\n",
        "            'accuracy_drop': 0.1,  # Accuracy %10 düşerse uyarı\n",
        "            'drift_score': 0.1,    # Drift score 0.1'den yüksekse uyarı\n",
        "            'response_time': 5.0,  # Response time 5 saniyeden fazlaysa uyarı\n",
        "            'error_rate': 0.05,    # Error rate %5'den fazlaysa uyarı\n",
        "            'cpu_usage': 80,       # CPU %80'den fazlaysa uyarı\n",
        "            'memory_usage': 85,    # Memory %85'den fazlaysa uyarı\n",
        "        }\n",
        "        self.alert_history = []\n",
        "        self.setup_logging()\n",
        "    \n",
        "    def setup_logging(self):\n",
        "        \"\"\"Alert logging sistemini kur\"\"\"\n",
        "        self.logger = logging.getLogger('AlertingSystem')\n",
        "        handler = logging.FileHandler('alerts.log')\n",
        "        formatter = logging.Formatter('%(asctime)s - %(name)s - %(levelname)s - %(message)s')\n",
        "        handler.setFormatter(formatter)\n",
        "        self.logger.addHandler(handler)\n",
        "    \n",
        "    def check_model_performance(self, current_accuracy, baseline_accuracy):\n",
        "        \"\"\"Model performans kontrolü\"\"\"\n",
        "        accuracy_drop = baseline_accuracy - current_accuracy\n",
        "        \n",
        "        if accuracy_drop > self.alert_thresholds['accuracy_drop']:\n",
        "            alert = {\n",
        "                'type': 'PERFORMANCE_DEGRADATION',\n",
        "                'severity': 'HIGH',\n",
        "                'message': f'Model accuracy dropped by {accuracy_drop:.3f} (from {baseline_accuracy:.3f} to {current_accuracy:.3f})',\n",
        "                'timestamp': datetime.now(),\n",
        "                'threshold': self.alert_thresholds['accuracy_drop']\n",
        "            }\n",
        "            self._send_alert(alert)\n",
        "            return True\n",
        "        \n",
        "        return False\n",
        "    \n",
        "    def check_data_drift(self, drift_results):\n",
        "        \"\"\"Data drift kontrolü\"\"\"\n",
        "        alerts_sent = []\n",
        "        \n",
        "        for feature, result in drift_results.items():\n",
        "            if result['is_drift'] and result['drift_score'] > self.alert_thresholds['drift_score']:\n",
        "                alert = {\n",
        "                    'type': 'DATA_DRIFT',\n",
        "                    'severity': 'MEDIUM',\n",
        "                    'message': f'Data drift detected in feature {feature}: score={result[\"drift_score\"]:.3f}',\n",
        "                    'timestamp': datetime.now(),\n",
        "                    'feature': feature,\n",
        "                    'drift_score': result['drift_score']\n",
        "                }\n",
        "                self._send_alert(alert)\n",
        "                alerts_sent.append(alert)\n",
        "        \n",
        "        return alerts_sent\n",
        "    \n",
        "    def check_system_health(self):\n",
        "        \"\"\"Sistem sağlığı kontrolü\"\"\"\n",
        "        cpu_usage = psutil.cpu_percent(interval=1)\n",
        "        memory_usage = psutil.virtual_memory().percent\n",
        "        \n",
        "        alerts_sent = []\n",
        "        \n",
        "        if cpu_usage > self.alert_thresholds['cpu_usage']:\n",
        "            alert = {\n",
        "                'type': 'SYSTEM_HEALTH',\n",
        "                'severity': 'HIGH',\n",
        "                'message': f'High CPU usage: {cpu_usage:.1f}%',\n",
        "                'timestamp': datetime.now(),\n",
        "                'metric': 'cpu_usage',\n",
        "                'value': cpu_usage\n",
        "            }\n",
        "            self._send_alert(alert)\n",
        "            alerts_sent.append(alert)\n",
        "        \n",
        "        if memory_usage > self.alert_thresholds['memory_usage']:\n",
        "            alert = {\n",
        "                'type': 'SYSTEM_HEALTH',\n",
        "                'severity': 'HIGH',\n",
        "                'message': f'High memory usage: {memory_usage:.1f}%',\n",
        "                'timestamp': datetime.now(),\n",
        "                'metric': 'memory_usage',\n",
        "                'value': memory_usage\n",
        "            }\n",
        "            self._send_alert(alert)\n",
        "            alerts_sent.append(alert)\n",
        "        \n",
        "        return alerts_sent\n",
        "    \n",
        "    def check_response_time(self, response_times):\n",
        "        \"\"\"Response time kontrolü\"\"\"\n",
        "        if not response_times:\n",
        "            return False\n",
        "        \n",
        "        avg_response_time = np.mean(response_times)\n",
        "        max_response_time = np.max(response_times)\n",
        "        \n",
        "        if max_response_time > self.alert_thresholds['response_time']:\n",
        "            alert = {\n",
        "                'type': 'PERFORMANCE_LATENCY',\n",
        "                'severity': 'MEDIUM',\n",
        "                'message': f'High response time detected: max={max_response_time:.3f}s, avg={avg_response_time:.3f}s',\n",
        "                'timestamp': datetime.now(),\n",
        "                'max_response_time': max_response_time,\n",
        "                'avg_response_time': avg_response_time\n",
        "            }\n",
        "            self._send_alert(alert)\n",
        "            return True\n",
        "        \n",
        "        return False\n",
        "    \n",
        "    def _send_alert(self, alert):\n",
        "        \"\"\"Uyarı gönder\"\"\"\n",
        "        self.alert_history.append(alert)\n",
        "        \n",
        "        # Console'a yazdır\n",
        "        print(f\"🚨 ALERT [{alert['severity']}]: {alert['message']}\")\n",
        "        \n",
        "        # Log'a kaydet\n",
        "        self.logger.warning(f\"Alert: {alert}\")\n",
        "        \n",
        "        # Slack'e gönder (demo)\n",
        "        self._send_slack_alert(alert)\n",
        "        \n",
        "        # Email gönder (demo)\n",
        "        self._send_email_alert(alert)\n",
        "    \n",
        "    def _send_slack_alert(self, alert):\n",
        "        \"\"\"Slack uyarısı gönder (demo)\"\"\"\n",
        "        # Gerçek implementasyonda Slack webhook kullanılır\n",
        "        slack_message = {\n",
        "            \"text\": f\"🚨 ML Model Alert\",\n",
        "            \"attachments\": [\n",
        "                {\n",
        "                    \"color\": \"danger\" if alert['severity'] == 'HIGH' else \"warning\",\n",
        "                    \"fields\": [\n",
        "                        {\n",
        "                            \"title\": \"Alert Type\",\n",
        "                            \"value\": alert['type'],\n",
        "                            \"short\": True\n",
        "                        },\n",
        "                        {\n",
        "                            \"title\": \"Severity\",\n",
        "                            \"value\": alert['severity'],\n",
        "                            \"short\": True\n",
        "                        },\n",
        "                        {\n",
        "                            \"title\": \"Message\",\n",
        "                            \"value\": alert['message'],\n",
        "                            \"short\": False\n",
        "                        },\n",
        "                        {\n",
        "                            \"title\": \"Timestamp\",\n",
        "                            \"value\": alert['timestamp'].strftime('%Y-%m-%d %H:%M:%S'),\n",
        "                            \"short\": True\n",
        "                        }\n",
        "                    ]\n",
        "                }\n",
        "            ]\n",
        "        }\n",
        "        \n",
        "        print(f\"📱 Slack alert sent: {alert['type']}\")\n",
        "        # requests.post(slack_webhook_url, json=slack_message)\n",
        "    \n",
        "    def _send_email_alert(self, alert):\n",
        "        \"\"\"Email uyarısı gönder (demo)\"\"\"\n",
        "        email_subject = f\"🚨 ML Model Alert: {alert['type']}\"\n",
        "        email_body = f\"\"\"\n",
        "        Alert Details:\n",
        "        - Type: {alert['type']}\n",
        "        - Severity: {alert['severity']}\n",
        "        - Message: {alert['message']}\n",
        "        - Timestamp: {alert['timestamp']}\n",
        "        \n",
        "        Please investigate immediately.\n",
        "        \"\"\"\n",
        "        \n",
        "        print(f\"📧 Email alert sent: {alert['type']}\")\n",
        "        # Gerçek implementasyonda SMTP kullanılır\n",
        "    \n",
        "    def get_alert_summary(self, hours=24):\n",
        "        \"\"\"Son X saatteki uyarı özeti\"\"\"\n",
        "        cutoff_time = datetime.now() - timedelta(hours=hours)\n",
        "        recent_alerts = [a for a in self.alert_history if a['timestamp'] > cutoff_time]\n",
        "        \n",
        "        summary = {\n",
        "            'total_alerts': len(recent_alerts),\n",
        "            'high_severity': len([a for a in recent_alerts if a['severity'] == 'HIGH']),\n",
        "            'medium_severity': len([a for a in recent_alerts if a['severity'] == 'MEDIUM']),\n",
        "            'low_severity': len([a for a in recent_alerts if a['severity'] == 'LOW']),\n",
        "            'alert_types': {}\n",
        "        }\n",
        "        \n",
        "        for alert in recent_alerts:\n",
        "            alert_type = alert['type']\n",
        "            if alert_type not in summary['alert_types']:\n",
        "                summary['alert_types'][alert_type] = 0\n",
        "            summary['alert_types'][alert_type] += 1\n",
        "        \n",
        "        return summary\n",
        "    \n",
        "    def run_health_check(self):\n",
        "        \"\"\"Kapsamlı sağlık kontrolü\"\"\"\n",
        "        print(\"🔍 Running comprehensive health check...\")\n",
        "        \n",
        "        # System health\n",
        "        system_alerts = self.check_system_health()\n",
        "        \n",
        "        # Model performance (son 24 saatteki verilerle)\n",
        "        predictions_df = self.monitor.get_predictions(hours=24)\n",
        "        if not predictions_df.empty:\n",
        "            if 'response_time' in predictions_df.columns:\n",
        "                response_times = predictions_df['response_time'].dropna()\n",
        "                if not response_times.empty:\n",
        "                    self.check_response_time(response_times.tolist())\n",
        "        \n",
        "        # Alert summary\n",
        "        summary = self.get_alert_summary()\n",
        "        \n",
        "        print(f\"✅ Health check completed!\")\n",
        "        print(f\"📊 Alerts in last 24h: {summary['total_alerts']}\")\n",
        "        print(f\"🔴 High severity: {summary['high_severity']}\")\n",
        "        print(f\"🟡 Medium severity: {summary['medium_severity']}\")\n",
        "        \n",
        "        return summary\n",
        "\n",
        "# Alerting system'i başlat\n",
        "alerting_system = AlertingSystem(monitor)\n",
        "print(\"✅ Alerting system hazır!\")\n"
      ]
    },
    {
      "cell_type": "raw",
      "metadata": {
        "vscode": {
          "languageId": "raw"
        }
      },
      "source": [
        "## 5. Comprehensive Demo - Tüm Sistemi Çalıştırma\n",
        "\n",
        "Şimdi tüm monitoring sistemini bir arada çalıştıralım:\n"
      ]
    },
    {
      "cell_type": "code",
      "execution_count": 6,
      "metadata": {},
      "outputs": [
        {
          "name": "stdout",
          "output_type": "stream",
          "text": [
            "🚀 Model Monitoring Demo Başlıyor...\n",
            "============================================================\n",
            "\n",
            "📊 1. Model Hazırlama ve Eğitme\n",
            "------------------------------\n"
          ]
        },
        {
          "name": "stderr",
          "output_type": "stream",
          "text": [
            "2025-07-07 00:04:01,260 - ModelMonitor - INFO - Prediction logged: 0.5003700000000001\n",
            "2025-07-07 00:04:01,268 - ModelMonitor - INFO - Prediction logged: 0.8591799999999999\n",
            "2025-07-07 00:04:01,274 - ModelMonitor - INFO - Prediction logged: 3.949143399999997\n",
            "2025-07-07 00:04:01,281 - ModelMonitor - INFO - Prediction logged: 2.496380000000001\n",
            "2025-07-07 00:04:01,288 - ModelMonitor - INFO - Prediction logged: 2.4447300000000003\n",
            "2025-07-07 00:04:01,296 - ModelMonitor - INFO - Prediction logged: 1.638530000000001\n",
            "2025-07-07 00:04:01,303 - ModelMonitor - INFO - Prediction logged: 2.502069999999999\n",
            "2025-07-07 00:04:01,311 - ModelMonitor - INFO - Prediction logged: 1.6306800000000012\n",
            "2025-07-07 00:04:01,318 - ModelMonitor - INFO - Prediction logged: 2.775540399999999\n",
            "2025-07-07 00:04:01,326 - ModelMonitor - INFO - Prediction logged: 4.980369599999989\n",
            "2025-07-07 00:04:01,333 - ModelMonitor - INFO - Prediction logged: 1.0954300000000006\n",
            "2025-07-07 00:04:01,340 - ModelMonitor - INFO - Prediction logged: 1.9368200999999998\n",
            "2025-07-07 00:04:01,347 - ModelMonitor - INFO - Prediction logged: 1.1332400000000002\n",
            "2025-07-07 00:04:01,355 - ModelMonitor - INFO - Prediction logged: 1.7678400000000003\n",
            "2025-07-07 00:04:01,363 - ModelMonitor - INFO - Prediction logged: 2.4211399999999994\n",
            "2025-07-07 00:04:01,370 - ModelMonitor - INFO - Prediction logged: 1.6021700000000008\n",
            "2025-07-07 00:04:01,378 - ModelMonitor - INFO - Prediction logged: 1.9105500000000004\n",
            "2025-07-07 00:04:01,385 - ModelMonitor - INFO - Prediction logged: 1.5221900000000008\n",
            "2025-07-07 00:04:01,397 - ModelMonitor - INFO - Prediction logged: 1.6172000000000006\n",
            "2025-07-07 00:04:01,407 - ModelMonitor - INFO - Prediction logged: 0.8531200000000001\n",
            "2025-07-07 00:04:01,415 - ModelMonitor - INFO - Prediction logged: 4.059692699999997\n",
            "2025-07-07 00:04:01,424 - ModelMonitor - INFO - Prediction logged: 3.062340400000001\n",
            "2025-07-07 00:04:01,432 - ModelMonitor - INFO - Prediction logged: 1.6278700000000004\n",
            "2025-07-07 00:04:01,441 - ModelMonitor - INFO - Prediction logged: 3.8236918000000006\n",
            "2025-07-07 00:04:01,449 - ModelMonitor - INFO - Prediction logged: 1.7584600000000001\n"
          ]
        },
        {
          "name": "stdout",
          "output_type": "stream",
          "text": [
            "✅ Model eğitildi!\n",
            "📈 Baseline R² Score: 0.8051\n",
            "📈 Baseline MSE: 0.2554\n",
            "\n",
            "📊 2. Production Tahminleri Simülasyonu\n",
            "------------------------------\n"
          ]
        },
        {
          "name": "stderr",
          "output_type": "stream",
          "text": [
            "2025-07-07 00:04:01,456 - ModelMonitor - INFO - Prediction logged: 0.5344500000000002\n",
            "2025-07-07 00:04:01,464 - ModelMonitor - INFO - Prediction logged: 1.7699599999999998\n",
            "2025-07-07 00:04:01,472 - ModelMonitor - INFO - Prediction logged: 1.07521\n",
            "2025-07-07 00:04:01,479 - ModelMonitor - INFO - Prediction logged: 1.7288300000000003\n",
            "2025-07-07 00:04:01,487 - ModelMonitor - INFO - Prediction logged: 3.7713705000000006\n",
            "2025-07-07 00:04:01,495 - ModelMonitor - INFO - Prediction logged: 1.6133100000000005\n",
            "2025-07-07 00:04:01,502 - ModelMonitor - INFO - Prediction logged: 2.1013107999999994\n",
            "2025-07-07 00:04:01,509 - ModelMonitor - INFO - Prediction logged: 2.361241\n",
            "2025-07-07 00:04:01,517 - ModelMonitor - INFO - Prediction logged: 4.381483599999996\n",
            "2025-07-07 00:04:01,524 - ModelMonitor - INFO - Prediction logged: 2.5549700000000013\n",
            "2025-07-07 00:04:01,532 - ModelMonitor - INFO - Prediction logged: 2.5649100000000002\n",
            "2025-07-07 00:04:01,539 - ModelMonitor - INFO - Prediction logged: 3.455910300000001\n",
            "2025-07-07 00:04:01,546 - ModelMonitor - INFO - Prediction logged: 1.6239399999999995\n",
            "2025-07-07 00:04:01,554 - ModelMonitor - INFO - Prediction logged: 1.3173199999999994\n",
            "2025-07-07 00:04:01,561 - ModelMonitor - INFO - Prediction logged: 1.5183399999999994\n",
            "2025-07-07 00:04:01,568 - ModelMonitor - INFO - Prediction logged: 2.9086800000000004\n",
            "2025-07-07 00:04:01,576 - ModelMonitor - INFO - Prediction logged: 0.9451100000000001\n",
            "2025-07-07 00:04:01,583 - ModelMonitor - INFO - Prediction logged: 1.0219699999999998\n",
            "2025-07-07 00:04:01,590 - ModelMonitor - INFO - Prediction logged: 2.082749999999999\n",
            "2025-07-07 00:04:01,597 - ModelMonitor - INFO - Prediction logged: 1.85361\n",
            "2025-07-07 00:04:01,603 - ModelMonitor - INFO - Prediction logged: 2.1320999999999994\n",
            "2025-07-07 00:04:01,610 - ModelMonitor - INFO - Prediction logged: 1.4471300000000005\n",
            "2025-07-07 00:04:01,617 - ModelMonitor - INFO - Prediction logged: 2.1514806999999996\n",
            "2025-07-07 00:04:01,624 - ModelMonitor - INFO - Prediction logged: 2.35281\n",
            "2025-07-07 00:04:01,630 - ModelMonitor - INFO - Prediction logged: 1.0678799999999995\n",
            "2025-07-07 00:04:01,637 - ModelMonitor - INFO - Prediction logged: 2.3834300000000006\n",
            "2025-07-07 00:04:01,644 - ModelMonitor - INFO - Prediction logged: 2.0501499999999995\n",
            "2025-07-07 00:04:01,651 - ModelMonitor - INFO - Prediction logged: 1.7501900000000004\n",
            "2025-07-07 00:04:01,657 - ModelMonitor - INFO - Prediction logged: 0.6818499999999998\n",
            "2025-07-07 00:04:01,665 - ModelMonitor - INFO - Prediction logged: 1.5173599999999998\n",
            "2025-07-07 00:04:01,672 - ModelMonitor - INFO - Prediction logged: 1.7378200000000004\n",
            "2025-07-07 00:04:01,680 - ModelMonitor - INFO - Prediction logged: 0.8158500000000002\n",
            "2025-07-07 00:04:01,688 - ModelMonitor - INFO - Prediction logged: 2.29884\n",
            "2025-07-07 00:04:01,696 - ModelMonitor - INFO - Prediction logged: 1.7556599999999998\n",
            "2025-07-07 00:04:01,703 - ModelMonitor - INFO - Prediction logged: 2.4114399999999994\n",
            "2025-07-07 00:04:01,710 - ModelMonitor - INFO - Prediction logged: 3.590711899999998\n",
            "2025-07-07 00:04:01,719 - ModelMonitor - INFO - Prediction logged: 2.1575701999999994\n",
            "2025-07-07 00:04:01,727 - ModelMonitor - INFO - Prediction logged: 0.94756\n",
            "2025-07-07 00:04:01,735 - ModelMonitor - INFO - Prediction logged: 1.1126399999999996\n",
            "2025-07-07 00:04:01,742 - ModelMonitor - INFO - Prediction logged: 3.2951603999999985\n",
            "2025-07-07 00:04:01,750 - ModelMonitor - INFO - Prediction logged: 1.9256299999999995\n",
            "2025-07-07 00:04:01,757 - ModelMonitor - INFO - Prediction logged: 1.1468800000000003\n",
            "2025-07-07 00:04:01,765 - ModelMonitor - INFO - Prediction logged: 1.7397901000000005\n",
            "2025-07-07 00:04:01,772 - ModelMonitor - INFO - Prediction logged: 1.6962099999999993\n",
            "2025-07-07 00:04:01,779 - ModelMonitor - INFO - Prediction logged: 1.6608099999999997\n",
            "2025-07-07 00:04:01,786 - ModelMonitor - INFO - Prediction logged: 1.1567800000000001\n",
            "2025-07-07 00:04:01,792 - ModelMonitor - INFO - Prediction logged: 2.182780100000001\n",
            "2025-07-07 00:04:01,799 - ModelMonitor - INFO - Prediction logged: 0.8554100000000004\n",
            "2025-07-07 00:04:01,806 - ModelMonitor - INFO - Prediction logged: 2.068499999999999\n",
            "2025-07-07 00:04:01,814 - ModelMonitor - INFO - Prediction logged: 2.0009399999999995\n",
            "2025-07-07 00:04:01,821 - ModelMonitor - INFO - Prediction logged: 2.0559600000000007\n",
            "2025-07-07 00:04:01,827 - ModelMonitor - INFO - Prediction logged: 4.163202799999998\n",
            "2025-07-07 00:04:01,834 - ModelMonitor - INFO - Prediction logged: 2.2850002000000003\n",
            "2025-07-07 00:04:01,841 - ModelMonitor - INFO - Prediction logged: 1.7784699999999996\n",
            "2025-07-07 00:04:01,847 - ModelMonitor - INFO - Prediction logged: 2.5401305999999986\n",
            "2025-07-07 00:04:01,855 - ModelMonitor - INFO - Prediction logged: 0.9231800000000002\n",
            "2025-07-07 00:04:01,861 - ModelMonitor - INFO - Prediction logged: 1.6837300000000002\n",
            "2025-07-07 00:04:01,868 - ModelMonitor - INFO - Prediction logged: 1.68076\n",
            "2025-07-07 00:04:01,875 - ModelMonitor - INFO - Prediction logged: 2.3750300000000006\n",
            "2025-07-07 00:04:01,882 - ModelMonitor - INFO - Prediction logged: 4.048763399999996\n",
            "2025-07-07 00:04:01,889 - ModelMonitor - INFO - Prediction logged: 2.3756500000000003\n",
            "2025-07-07 00:04:01,897 - ModelMonitor - INFO - Prediction logged: 0.8664599\n",
            "2025-07-07 00:04:01,904 - ModelMonitor - INFO - Prediction logged: 0.8213200000000002\n",
            "2025-07-07 00:04:01,910 - ModelMonitor - INFO - Prediction logged: 2.2786501000000006\n",
            "2025-07-07 00:04:01,917 - ModelMonitor - INFO - Prediction logged: 2.0790099999999985\n",
            "2025-07-07 00:04:01,924 - ModelMonitor - INFO - Prediction logged: 1.1943599999999999\n",
            "2025-07-07 00:04:01,931 - ModelMonitor - INFO - Prediction logged: 2.9692999999999996\n",
            "2025-07-07 00:04:01,937 - ModelMonitor - INFO - Prediction logged: 1.0405399999999994\n",
            "2025-07-07 00:04:01,944 - ModelMonitor - INFO - Prediction logged: 0.5118599999999999\n",
            "2025-07-07 00:04:01,951 - ModelMonitor - INFO - Prediction logged: 0.9975699999999997\n",
            "2025-07-07 00:04:01,958 - ModelMonitor - INFO - Prediction logged: 1.3474100000000007\n",
            "2025-07-07 00:04:01,964 - ModelMonitor - INFO - Prediction logged: 3.8188110999999987\n",
            "2025-07-07 00:04:01,970 - ModelMonitor - INFO - Prediction logged: 1.3950200000000006\n",
            "2025-07-07 00:04:01,977 - ModelMonitor - INFO - Prediction logged: 1.2615300999999999\n",
            "2025-07-07 00:04:01,985 - ModelMonitor - INFO - Prediction logged: 1.6155199999999998\n",
            "2025-07-07 00:04:01,990 - ModelMonitor - INFO - Metric logged: accuracy = 0.8388097513154077\n",
            "2025-07-07 00:04:01,995 - ModelMonitor - INFO - Metric logged: mse = 0.2208901932637601\n",
            "2025-07-07 00:04:02,000 - ModelMonitor - INFO - Metric logged: avg_response_time = 0.002275876998901367\n",
            "2025-07-07 00:04:02,020 - AlertingSystem - WARNING - Alert: {'type': 'DATA_DRIFT', 'severity': 'MEDIUM', 'message': 'Data drift detected in feature AveBedrms: score=0.213', 'timestamp': datetime.datetime(2025, 7, 7, 0, 4, 2, 20851), 'feature': 'AveBedrms', 'drift_score': np.float64(0.21304021317829458)}\n"
          ]
        },
        {
          "name": "stdout",
          "output_type": "stream",
          "text": [
            "✅ 100 production prediction logged!\n",
            "⏱️ Avg response time: 0.0023s\n",
            "\n",
            "📊 3. Model Performance Monitoring\n",
            "------------------------------\n",
            "📈 Current R² Score: 0.8388\n",
            "📈 Current MSE: 0.2209\n",
            "✅ Model performance is stable!\n",
            "\n",
            "📊 4. Data Drift Detection\n",
            "------------------------------\n",
            "🔍 KS Test Results:\n",
            "   MedInc: OK (p-value: 0.1960)\n",
            "   HouseAge: OK (p-value: 0.3934)\n",
            "   AveRooms: OK (p-value: 0.3010)\n",
            "   AveBedrms: DRIFT (p-value: 0.0002)\n",
            "   Population: OK (p-value: 0.0843)\n",
            "   AveOccup: OK (p-value: 0.0974)\n",
            "   Latitude: OK (p-value: 0.9582)\n",
            "   Longitude: OK (p-value: 0.6458)\n",
            "\n",
            "🔍 PSI Results:\n",
            "   MedInc: OK (PSI: 0.0195)\n",
            "   HouseAge: OK (PSI: 0.0705)\n",
            "   AveRooms: OK (PSI: 0.0000)\n",
            "   AveBedrms: OK (PSI: 0.0000)\n",
            "   Population: OK (PSI: 0.0007)\n",
            "   AveOccup: OK (PSI: 0.0000)\n",
            "   Latitude: OK (PSI: 0.0834)\n",
            "   Longitude: OK (PSI: 0.0526)\n",
            "✅ Drift detection sonuçları kaydedildi!\n",
            "🚨 ALERT [MEDIUM]: Data drift detected in feature AveBedrms: score=0.213\n",
            "📱 Slack alert sent: DATA_DRIFT\n",
            "📧 Email alert sent: DATA_DRIFT\n",
            "\n",
            "🚨 Drift alerts sent: 1\n",
            "\n",
            "📊 5. System Health Check\n",
            "------------------------------\n",
            "🔍 Running comprehensive health check...\n",
            "✅ Health check completed!\n",
            "📊 Alerts in last 24h: 1\n",
            "🔴 High severity: 0\n",
            "🟡 Medium severity: 1\n",
            "\n",
            "📊 6. Dashboard Creation\n",
            "------------------------------\n",
            "📈 Creating performance dashboard...\n"
          ]
        },
        {
          "data": {
            "application/vnd.plotly.v1+json": {
              "config": {
                "plotlyServerURL": "https://plot.ly"
              },
              "data": [
                {
                  "mode": "lines+markers",
                  "name": "Predictions/Hour",
                  "type": "scatter",
                  "x": [
                    0
                  ],
                  "xaxis": "x",
                  "y": [
                    200
                  ],
                  "yaxis": "y"
                },
                {
                  "name": "Response Time (s)",
                  "type": "histogram",
                  "x": [
                    0.002202749252319336,
                    0.0017251968383789062,
                    0.0017840862274169922,
                    0.0018587112426757812,
                    0.002263784408569336,
                    0.001971006393432617,
                    0.0027320384979248047,
                    0.001893758773803711,
                    0.0021572113037109375,
                    0.0020961761474609375,
                    0.0021562576293945312,
                    0.0019910335540771484,
                    0.002134084701538086,
                    0.002444028854370117,
                    0.0027382373809814453,
                    0.0021131038665771484,
                    0.001817464828491211,
                    0.001932382583618164,
                    0.0017902851104736328,
                    0.0022628307342529297,
                    0.0017673969268798828,
                    0.0022835731506347656,
                    0.002434968948364258,
                    0.0020453929901123047,
                    0.0019538402557373047,
                    0.0022246837615966797,
                    0.002027273178100586,
                    0.002011537551879883,
                    0.002094268798828125,
                    0.002117633819580078,
                    0.0023076534271240234,
                    0.001832723617553711,
                    0.0019736289978027344,
                    0.002484560012817383,
                    0.002321958541870117,
                    0.002303600311279297,
                    0.0023834705352783203,
                    0.0026509761810302734,
                    0.0029222965240478516,
                    0.002043485641479492,
                    0.0022516250610351562,
                    0.002991914749145508,
                    0.0021436214447021484,
                    0.0020432472229003906,
                    0.002167940139770508,
                    0.002171754837036133,
                    0.0018529891967773438,
                    0.0024900436401367188,
                    0.002081155776977539,
                    0.002185344696044922,
                    0.0018417835235595703,
                    0.002534151077270508,
                    0.0018315315246582031,
                    0.002104520797729492,
                    0.0020036697387695312,
                    0.002010822296142578,
                    0.0021452903747558594,
                    0.0019273757934570312,
                    0.002069711685180664,
                    0.002363920211791992,
                    0.0024476051330566406,
                    0.002164125442504883,
                    0.002135038375854492,
                    0.0025098323822021484,
                    0.0022623538970947266,
                    0.002390146255493164,
                    0.0021560192108154297,
                    0.0021986961364746094,
                    0.0024001598358154297,
                    0.0021424293518066406,
                    0.0027761459350585938,
                    0.002065896987915039,
                    0.0030465126037597656,
                    0.0026624202728271484,
                    0.0021495819091796875,
                    0.0022847652435302734,
                    0.0029103755950927734,
                    0.0023124217987060547,
                    0.00286865234375,
                    0.002910614013671875,
                    0.0036339759826660156,
                    0.0031709671020507812,
                    0.0019459724426269531,
                    0.002349853515625,
                    0.002109050750732422,
                    0.003005504608154297,
                    0.0023593902587890625,
                    0.0022284984588623047,
                    0.0020551681518554688,
                    0.002374410629272461,
                    0.0029370784759521484,
                    0.002351999282836914,
                    0.002419710159301758,
                    0.0024743080139160156,
                    0.002827167510986328,
                    0.0021092891693115234,
                    0.0025773048400878906,
                    0.002009153366088867,
                    0.0022780895233154297,
                    0.0021152496337890625,
                    0.003124237060546875,
                    0.002007722854614258,
                    0.001954317092895508,
                    0.0045664310455322266,
                    0.0023937225341796875,
                    0.0037686824798583984,
                    0.0031554698944091797,
                    0.0019829273223876953,
                    0.0024602413177490234,
                    0.002111196517944336,
                    0.0023899078369140625,
                    0.002156972885131836,
                    0.002257108688354492,
                    0.0023648738861083984,
                    0.002048015594482422,
                    0.0021250247955322266,
                    0.0022029876708984375,
                    0.001898050308227539,
                    0.0024924278259277344,
                    0.002096891403198242,
                    0.0019366741180419922,
                    0.0019643306732177734,
                    0.0018422603607177734,
                    0.002249002456665039,
                    0.0018110275268554688,
                    0.002245664596557617,
                    0.001842498779296875,
                    0.0018908977508544922,
                    0.00255584716796875,
                    0.002621173858642578,
                    0.0022406578063964844,
                    0.0021157264709472656,
                    0.00217437744140625,
                    0.0019497871398925781,
                    0.002572298049926758,
                    0.002092123031616211,
                    0.0021643638610839844,
                    0.0020301342010498047,
                    0.001975536346435547,
                    0.0019807815551757812,
                    0.0018579959869384766,
                    0.001886129379272461,
                    0.002505064010620117,
                    0.0028073787689208984,
                    0.001871347427368164,
                    0.0024025440216064453,
                    0.002276897430419922,
                    0.0022988319396972656,
                    0.0020914077758789062,
                    0.0017993450164794922,
                    0.002438068389892578,
                    0.0021250247955322266,
                    0.001985311508178711,
                    0.0021562576293945312,
                    0.002152681350708008,
                    0.0018701553344726562,
                    0.0023424625396728516,
                    0.0026450157165527344,
                    0.002043485641479492,
                    0.002285480499267578,
                    0.002361774444580078,
                    0.002485990524291992,
                    0.0019412040710449219,
                    0.002182483673095703,
                    0.0022618770599365234,
                    0.0019838809967041016,
                    0.002101898193359375,
                    0.0021839141845703125,
                    0.002553224563598633,
                    0.0020782947540283203,
                    0.0018711090087890625,
                    0.0018208026885986328,
                    0.002386808395385742,
                    0.002238035202026367,
                    0.0024030208587646484,
                    0.002349853515625,
                    0.001985311508178711,
                    0.0027472972869873047,
                    0.0020596981048583984,
                    0.0018227100372314453,
                    0.002209901809692383,
                    0.001913309097290039,
                    0.0020918846130371094,
                    0.003192424774169922,
                    0.0023343563079833984,
                    0.0030317306518554688,
                    0.0029892921447753906,
                    0.0033578872680664062,
                    0.0031473636627197266,
                    0.002408742904663086,
                    0.0022208690643310547,
                    0.002549886703491211,
                    0.002202272415161133,
                    0.0020215511322021484,
                    0.0024225711822509766,
                    0.0025191307067871094,
                    0.002811908721923828,
                    0.0020110607147216797,
                    0.002382516860961914,
                    0.0020868778228759766
                  ],
                  "xaxis": "x2",
                  "yaxis": "y2"
                },
                {
                  "mode": "lines+markers",
                  "name": "Accuracy",
                  "type": "scatter",
                  "x": [
                    "2025-07-07T00:04:01.986815",
                    "2025-07-07T00:03:33.091168"
                  ],
                  "xaxis": "x3",
                  "y": [
                    0.8388097513154077,
                    0.8388097513154077
                  ],
                  "yaxis": "y3"
                },
                {
                  "mode": "markers",
                  "name": "Pred vs Actual",
                  "type": "scatter",
                  "x": [
                    1.77,
                    0.85,
                    0.498,
                    2.661,
                    0.967,
                    0.658,
                    1.181,
                    1.438,
                    1.896,
                    1.744,
                    2.547,
                    0.988,
                    2.145,
                    2.556,
                    2.111,
                    2.915,
                    0.713,
                    0.905,
                    1.56,
                    1.504,
                    1.384,
                    3.615,
                    1.513,
                    0.514,
                    4.25,
                    1.232,
                    4.466,
                    2.186,
                    1.77,
                    0.85,
                    0.498,
                    2.661,
                    0.967,
                    0.658,
                    1.181,
                    1.438,
                    1.896,
                    1.744,
                    2.547,
                    0.988,
                    2.145,
                    2.556,
                    2.111,
                    2.915,
                    0.713,
                    0.905,
                    1.56,
                    1.504,
                    1.384,
                    3.615,
                    1.513,
                    0.514,
                    4.25,
                    1.232,
                    4.466,
                    2.186
                  ],
                  "xaxis": "x4",
                  "y": [
                    1.6155199999999998,
                    1.2615300999999999,
                    0.5118599999999999,
                    2.9692999999999996,
                    1.1943599999999999,
                    0.8213200000000002,
                    2.3750300000000006,
                    1.6837300000000002,
                    2.2850002000000003,
                    2.068499999999999,
                    1.1468800000000003,
                    1.1126399999999996,
                    2.4114399999999994,
                    1.7556599999999998,
                    2.29884,
                    2.1514806999999996,
                    1.0219699999999998,
                    0.9451100000000001,
                    1.5183399999999994,
                    1.6239399999999995,
                    2.1013107999999994,
                    3.7713705000000006,
                    1.7699599999999998,
                    0.5344500000000002,
                    4.059692699999997,
                    1.0954300000000006,
                    4.980369599999989,
                    2.496380000000001,
                    1.6155199999999998,
                    1.2615300999999999,
                    0.5118599999999999,
                    2.9692999999999996,
                    1.1943599999999999,
                    0.8213200000000002,
                    2.3750300000000006,
                    1.6837300000000002,
                    2.2850002000000003,
                    2.068499999999999,
                    1.1468800000000003,
                    1.1126399999999996,
                    2.4114399999999994,
                    1.7556599999999998,
                    2.29884,
                    2.1514806999999996,
                    1.0219699999999998,
                    0.9451100000000001,
                    1.5183399999999994,
                    1.6239399999999995,
                    2.1013107999999994,
                    3.7713705000000006,
                    1.7699599999999998,
                    0.5344500000000002,
                    4.059692699999997,
                    1.0954300000000006,
                    4.980369599999989,
                    2.496380000000001
                  ],
                  "yaxis": "y4"
                },
                {
                  "line": {
                    "color": "red",
                    "dash": "dash"
                  },
                  "mode": "lines",
                  "name": "Perfect Prediction",
                  "type": "scatter",
                  "x": [
                    0.498,
                    4.980369599999989
                  ],
                  "xaxis": "x4",
                  "y": [
                    0.498,
                    4.980369599999989
                  ],
                  "yaxis": "y4"
                }
              ],
              "layout": {
                "annotations": [
                  {
                    "font": {
                      "size": 16
                    },
                    "showarrow": false,
                    "text": "Prediction Count Over Time",
                    "x": 0.225,
                    "xanchor": "center",
                    "xref": "paper",
                    "y": 1,
                    "yanchor": "bottom",
                    "yref": "paper"
                  },
                  {
                    "font": {
                      "size": 16
                    },
                    "showarrow": false,
                    "text": "Response Time Distribution",
                    "x": 0.775,
                    "xanchor": "center",
                    "xref": "paper",
                    "y": 1,
                    "yanchor": "bottom",
                    "yref": "paper"
                  },
                  {
                    "font": {
                      "size": 16
                    },
                    "showarrow": false,
                    "text": "Model Accuracy Over Time",
                    "x": 0.225,
                    "xanchor": "center",
                    "xref": "paper",
                    "y": 0.375,
                    "yanchor": "bottom",
                    "yref": "paper"
                  },
                  {
                    "font": {
                      "size": 16
                    },
                    "showarrow": false,
                    "text": "Prediction vs Actual",
                    "x": 0.775,
                    "xanchor": "center",
                    "xref": "paper",
                    "y": 0.375,
                    "yanchor": "bottom",
                    "yref": "paper"
                  }
                ],
                "height": 800,
                "template": {
                  "data": {
                    "bar": [
                      {
                        "error_x": {
                          "color": "#2a3f5f"
                        },
                        "error_y": {
                          "color": "#2a3f5f"
                        },
                        "marker": {
                          "line": {
                            "color": "#E5ECF6",
                            "width": 0.5
                          },
                          "pattern": {
                            "fillmode": "overlay",
                            "size": 10,
                            "solidity": 0.2
                          }
                        },
                        "type": "bar"
                      }
                    ],
                    "barpolar": [
                      {
                        "marker": {
                          "line": {
                            "color": "#E5ECF6",
                            "width": 0.5
                          },
                          "pattern": {
                            "fillmode": "overlay",
                            "size": 10,
                            "solidity": 0.2
                          }
                        },
                        "type": "barpolar"
                      }
                    ],
                    "carpet": [
                      {
                        "aaxis": {
                          "endlinecolor": "#2a3f5f",
                          "gridcolor": "white",
                          "linecolor": "white",
                          "minorgridcolor": "white",
                          "startlinecolor": "#2a3f5f"
                        },
                        "baxis": {
                          "endlinecolor": "#2a3f5f",
                          "gridcolor": "white",
                          "linecolor": "white",
                          "minorgridcolor": "white",
                          "startlinecolor": "#2a3f5f"
                        },
                        "type": "carpet"
                      }
                    ],
                    "choropleth": [
                      {
                        "colorbar": {
                          "outlinewidth": 0,
                          "ticks": ""
                        },
                        "type": "choropleth"
                      }
                    ],
                    "contour": [
                      {
                        "colorbar": {
                          "outlinewidth": 0,
                          "ticks": ""
                        },
                        "colorscale": [
                          [
                            0,
                            "#0d0887"
                          ],
                          [
                            0.1111111111111111,
                            "#46039f"
                          ],
                          [
                            0.2222222222222222,
                            "#7201a8"
                          ],
                          [
                            0.3333333333333333,
                            "#9c179e"
                          ],
                          [
                            0.4444444444444444,
                            "#bd3786"
                          ],
                          [
                            0.5555555555555556,
                            "#d8576b"
                          ],
                          [
                            0.6666666666666666,
                            "#ed7953"
                          ],
                          [
                            0.7777777777777778,
                            "#fb9f3a"
                          ],
                          [
                            0.8888888888888888,
                            "#fdca26"
                          ],
                          [
                            1,
                            "#f0f921"
                          ]
                        ],
                        "type": "contour"
                      }
                    ],
                    "contourcarpet": [
                      {
                        "colorbar": {
                          "outlinewidth": 0,
                          "ticks": ""
                        },
                        "type": "contourcarpet"
                      }
                    ],
                    "heatmap": [
                      {
                        "colorbar": {
                          "outlinewidth": 0,
                          "ticks": ""
                        },
                        "colorscale": [
                          [
                            0,
                            "#0d0887"
                          ],
                          [
                            0.1111111111111111,
                            "#46039f"
                          ],
                          [
                            0.2222222222222222,
                            "#7201a8"
                          ],
                          [
                            0.3333333333333333,
                            "#9c179e"
                          ],
                          [
                            0.4444444444444444,
                            "#bd3786"
                          ],
                          [
                            0.5555555555555556,
                            "#d8576b"
                          ],
                          [
                            0.6666666666666666,
                            "#ed7953"
                          ],
                          [
                            0.7777777777777778,
                            "#fb9f3a"
                          ],
                          [
                            0.8888888888888888,
                            "#fdca26"
                          ],
                          [
                            1,
                            "#f0f921"
                          ]
                        ],
                        "type": "heatmap"
                      }
                    ],
                    "heatmapgl": [
                      {
                        "colorbar": {
                          "outlinewidth": 0,
                          "ticks": ""
                        },
                        "colorscale": [
                          [
                            0,
                            "#0d0887"
                          ],
                          [
                            0.1111111111111111,
                            "#46039f"
                          ],
                          [
                            0.2222222222222222,
                            "#7201a8"
                          ],
                          [
                            0.3333333333333333,
                            "#9c179e"
                          ],
                          [
                            0.4444444444444444,
                            "#bd3786"
                          ],
                          [
                            0.5555555555555556,
                            "#d8576b"
                          ],
                          [
                            0.6666666666666666,
                            "#ed7953"
                          ],
                          [
                            0.7777777777777778,
                            "#fb9f3a"
                          ],
                          [
                            0.8888888888888888,
                            "#fdca26"
                          ],
                          [
                            1,
                            "#f0f921"
                          ]
                        ],
                        "type": "heatmapgl"
                      }
                    ],
                    "histogram": [
                      {
                        "marker": {
                          "pattern": {
                            "fillmode": "overlay",
                            "size": 10,
                            "solidity": 0.2
                          }
                        },
                        "type": "histogram"
                      }
                    ],
                    "histogram2d": [
                      {
                        "colorbar": {
                          "outlinewidth": 0,
                          "ticks": ""
                        },
                        "colorscale": [
                          [
                            0,
                            "#0d0887"
                          ],
                          [
                            0.1111111111111111,
                            "#46039f"
                          ],
                          [
                            0.2222222222222222,
                            "#7201a8"
                          ],
                          [
                            0.3333333333333333,
                            "#9c179e"
                          ],
                          [
                            0.4444444444444444,
                            "#bd3786"
                          ],
                          [
                            0.5555555555555556,
                            "#d8576b"
                          ],
                          [
                            0.6666666666666666,
                            "#ed7953"
                          ],
                          [
                            0.7777777777777778,
                            "#fb9f3a"
                          ],
                          [
                            0.8888888888888888,
                            "#fdca26"
                          ],
                          [
                            1,
                            "#f0f921"
                          ]
                        ],
                        "type": "histogram2d"
                      }
                    ],
                    "histogram2dcontour": [
                      {
                        "colorbar": {
                          "outlinewidth": 0,
                          "ticks": ""
                        },
                        "colorscale": [
                          [
                            0,
                            "#0d0887"
                          ],
                          [
                            0.1111111111111111,
                            "#46039f"
                          ],
                          [
                            0.2222222222222222,
                            "#7201a8"
                          ],
                          [
                            0.3333333333333333,
                            "#9c179e"
                          ],
                          [
                            0.4444444444444444,
                            "#bd3786"
                          ],
                          [
                            0.5555555555555556,
                            "#d8576b"
                          ],
                          [
                            0.6666666666666666,
                            "#ed7953"
                          ],
                          [
                            0.7777777777777778,
                            "#fb9f3a"
                          ],
                          [
                            0.8888888888888888,
                            "#fdca26"
                          ],
                          [
                            1,
                            "#f0f921"
                          ]
                        ],
                        "type": "histogram2dcontour"
                      }
                    ],
                    "mesh3d": [
                      {
                        "colorbar": {
                          "outlinewidth": 0,
                          "ticks": ""
                        },
                        "type": "mesh3d"
                      }
                    ],
                    "parcoords": [
                      {
                        "line": {
                          "colorbar": {
                            "outlinewidth": 0,
                            "ticks": ""
                          }
                        },
                        "type": "parcoords"
                      }
                    ],
                    "pie": [
                      {
                        "automargin": true,
                        "type": "pie"
                      }
                    ],
                    "scatter": [
                      {
                        "fillpattern": {
                          "fillmode": "overlay",
                          "size": 10,
                          "solidity": 0.2
                        },
                        "type": "scatter"
                      }
                    ],
                    "scatter3d": [
                      {
                        "line": {
                          "colorbar": {
                            "outlinewidth": 0,
                            "ticks": ""
                          }
                        },
                        "marker": {
                          "colorbar": {
                            "outlinewidth": 0,
                            "ticks": ""
                          }
                        },
                        "type": "scatter3d"
                      }
                    ],
                    "scattercarpet": [
                      {
                        "marker": {
                          "colorbar": {
                            "outlinewidth": 0,
                            "ticks": ""
                          }
                        },
                        "type": "scattercarpet"
                      }
                    ],
                    "scattergeo": [
                      {
                        "marker": {
                          "colorbar": {
                            "outlinewidth": 0,
                            "ticks": ""
                          }
                        },
                        "type": "scattergeo"
                      }
                    ],
                    "scattergl": [
                      {
                        "marker": {
                          "colorbar": {
                            "outlinewidth": 0,
                            "ticks": ""
                          }
                        },
                        "type": "scattergl"
                      }
                    ],
                    "scattermapbox": [
                      {
                        "marker": {
                          "colorbar": {
                            "outlinewidth": 0,
                            "ticks": ""
                          }
                        },
                        "type": "scattermapbox"
                      }
                    ],
                    "scatterpolar": [
                      {
                        "marker": {
                          "colorbar": {
                            "outlinewidth": 0,
                            "ticks": ""
                          }
                        },
                        "type": "scatterpolar"
                      }
                    ],
                    "scatterpolargl": [
                      {
                        "marker": {
                          "colorbar": {
                            "outlinewidth": 0,
                            "ticks": ""
                          }
                        },
                        "type": "scatterpolargl"
                      }
                    ],
                    "scatterternary": [
                      {
                        "marker": {
                          "colorbar": {
                            "outlinewidth": 0,
                            "ticks": ""
                          }
                        },
                        "type": "scatterternary"
                      }
                    ],
                    "surface": [
                      {
                        "colorbar": {
                          "outlinewidth": 0,
                          "ticks": ""
                        },
                        "colorscale": [
                          [
                            0,
                            "#0d0887"
                          ],
                          [
                            0.1111111111111111,
                            "#46039f"
                          ],
                          [
                            0.2222222222222222,
                            "#7201a8"
                          ],
                          [
                            0.3333333333333333,
                            "#9c179e"
                          ],
                          [
                            0.4444444444444444,
                            "#bd3786"
                          ],
                          [
                            0.5555555555555556,
                            "#d8576b"
                          ],
                          [
                            0.6666666666666666,
                            "#ed7953"
                          ],
                          [
                            0.7777777777777778,
                            "#fb9f3a"
                          ],
                          [
                            0.8888888888888888,
                            "#fdca26"
                          ],
                          [
                            1,
                            "#f0f921"
                          ]
                        ],
                        "type": "surface"
                      }
                    ],
                    "table": [
                      {
                        "cells": {
                          "fill": {
                            "color": "#EBF0F8"
                          },
                          "line": {
                            "color": "white"
                          }
                        },
                        "header": {
                          "fill": {
                            "color": "#C8D4E3"
                          },
                          "line": {
                            "color": "white"
                          }
                        },
                        "type": "table"
                      }
                    ]
                  },
                  "layout": {
                    "annotationdefaults": {
                      "arrowcolor": "#2a3f5f",
                      "arrowhead": 0,
                      "arrowwidth": 1
                    },
                    "autotypenumbers": "strict",
                    "coloraxis": {
                      "colorbar": {
                        "outlinewidth": 0,
                        "ticks": ""
                      }
                    },
                    "colorscale": {
                      "diverging": [
                        [
                          0,
                          "#8e0152"
                        ],
                        [
                          0.1,
                          "#c51b7d"
                        ],
                        [
                          0.2,
                          "#de77ae"
                        ],
                        [
                          0.3,
                          "#f1b6da"
                        ],
                        [
                          0.4,
                          "#fde0ef"
                        ],
                        [
                          0.5,
                          "#f7f7f7"
                        ],
                        [
                          0.6,
                          "#e6f5d0"
                        ],
                        [
                          0.7,
                          "#b8e186"
                        ],
                        [
                          0.8,
                          "#7fbc41"
                        ],
                        [
                          0.9,
                          "#4d9221"
                        ],
                        [
                          1,
                          "#276419"
                        ]
                      ],
                      "sequential": [
                        [
                          0,
                          "#0d0887"
                        ],
                        [
                          0.1111111111111111,
                          "#46039f"
                        ],
                        [
                          0.2222222222222222,
                          "#7201a8"
                        ],
                        [
                          0.3333333333333333,
                          "#9c179e"
                        ],
                        [
                          0.4444444444444444,
                          "#bd3786"
                        ],
                        [
                          0.5555555555555556,
                          "#d8576b"
                        ],
                        [
                          0.6666666666666666,
                          "#ed7953"
                        ],
                        [
                          0.7777777777777778,
                          "#fb9f3a"
                        ],
                        [
                          0.8888888888888888,
                          "#fdca26"
                        ],
                        [
                          1,
                          "#f0f921"
                        ]
                      ],
                      "sequentialminus": [
                        [
                          0,
                          "#0d0887"
                        ],
                        [
                          0.1111111111111111,
                          "#46039f"
                        ],
                        [
                          0.2222222222222222,
                          "#7201a8"
                        ],
                        [
                          0.3333333333333333,
                          "#9c179e"
                        ],
                        [
                          0.4444444444444444,
                          "#bd3786"
                        ],
                        [
                          0.5555555555555556,
                          "#d8576b"
                        ],
                        [
                          0.6666666666666666,
                          "#ed7953"
                        ],
                        [
                          0.7777777777777778,
                          "#fb9f3a"
                        ],
                        [
                          0.8888888888888888,
                          "#fdca26"
                        ],
                        [
                          1,
                          "#f0f921"
                        ]
                      ]
                    },
                    "colorway": [
                      "#636efa",
                      "#EF553B",
                      "#00cc96",
                      "#ab63fa",
                      "#FFA15A",
                      "#19d3f3",
                      "#FF6692",
                      "#B6E880",
                      "#FF97FF",
                      "#FECB52"
                    ],
                    "font": {
                      "color": "#2a3f5f"
                    },
                    "geo": {
                      "bgcolor": "white",
                      "lakecolor": "white",
                      "landcolor": "#E5ECF6",
                      "showlakes": true,
                      "showland": true,
                      "subunitcolor": "white"
                    },
                    "hoverlabel": {
                      "align": "left"
                    },
                    "hovermode": "closest",
                    "mapbox": {
                      "style": "light"
                    },
                    "paper_bgcolor": "white",
                    "plot_bgcolor": "#E5ECF6",
                    "polar": {
                      "angularaxis": {
                        "gridcolor": "white",
                        "linecolor": "white",
                        "ticks": ""
                      },
                      "bgcolor": "#E5ECF6",
                      "radialaxis": {
                        "gridcolor": "white",
                        "linecolor": "white",
                        "ticks": ""
                      }
                    },
                    "scene": {
                      "xaxis": {
                        "backgroundcolor": "#E5ECF6",
                        "gridcolor": "white",
                        "gridwidth": 2,
                        "linecolor": "white",
                        "showbackground": true,
                        "ticks": "",
                        "zerolinecolor": "white"
                      },
                      "yaxis": {
                        "backgroundcolor": "#E5ECF6",
                        "gridcolor": "white",
                        "gridwidth": 2,
                        "linecolor": "white",
                        "showbackground": true,
                        "ticks": "",
                        "zerolinecolor": "white"
                      },
                      "zaxis": {
                        "backgroundcolor": "#E5ECF6",
                        "gridcolor": "white",
                        "gridwidth": 2,
                        "linecolor": "white",
                        "showbackground": true,
                        "ticks": "",
                        "zerolinecolor": "white"
                      }
                    },
                    "shapedefaults": {
                      "line": {
                        "color": "#2a3f5f"
                      }
                    },
                    "ternary": {
                      "aaxis": {
                        "gridcolor": "white",
                        "linecolor": "white",
                        "ticks": ""
                      },
                      "baxis": {
                        "gridcolor": "white",
                        "linecolor": "white",
                        "ticks": ""
                      },
                      "bgcolor": "#E5ECF6",
                      "caxis": {
                        "gridcolor": "white",
                        "linecolor": "white",
                        "ticks": ""
                      }
                    },
                    "title": {
                      "x": 0.05
                    },
                    "xaxis": {
                      "automargin": true,
                      "gridcolor": "white",
                      "linecolor": "white",
                      "ticks": "",
                      "title": {
                        "standoff": 15
                      },
                      "zerolinecolor": "white",
                      "zerolinewidth": 2
                    },
                    "yaxis": {
                      "automargin": true,
                      "gridcolor": "white",
                      "linecolor": "white",
                      "ticks": "",
                      "title": {
                        "standoff": 15
                      },
                      "zerolinecolor": "white",
                      "zerolinewidth": 2
                    }
                  }
                },
                "title": {
                  "text": "Model Performance Dashboard"
                },
                "xaxis": {
                  "anchor": "y",
                  "domain": [
                    0,
                    0.45
                  ]
                },
                "xaxis2": {
                  "anchor": "y2",
                  "domain": [
                    0.55,
                    1
                  ]
                },
                "xaxis3": {
                  "anchor": "y3",
                  "domain": [
                    0,
                    0.45
                  ]
                },
                "xaxis4": {
                  "anchor": "y4",
                  "domain": [
                    0.55,
                    1
                  ]
                },
                "yaxis": {
                  "anchor": "x",
                  "domain": [
                    0.625,
                    1
                  ]
                },
                "yaxis2": {
                  "anchor": "x2",
                  "domain": [
                    0.625,
                    1
                  ]
                },
                "yaxis3": {
                  "anchor": "x3",
                  "domain": [
                    0,
                    0.375
                  ]
                },
                "yaxis4": {
                  "anchor": "x4",
                  "domain": [
                    0,
                    0.375
                  ]
                }
              }
            }
          },
          "metadata": {},
          "output_type": "display_data"
        },
        {
          "name": "stdout",
          "output_type": "stream",
          "text": [
            "✅ Performance dashboard created!\n",
            "📈 Creating drift dashboard...\n"
          ]
        },
        {
          "data": {
            "application/vnd.plotly.v1+json": {
              "config": {
                "plotlyServerURL": "https://plot.ly"
              },
              "data": [
                {
                  "marker": {
                    "color": [
                      "green",
                      "green",
                      "green",
                      "red",
                      "green",
                      "green",
                      "green",
                      "green"
                    ]
                  },
                  "name": "Drift Score",
                  "text": [
                    "OK",
                    "OK",
                    "OK",
                    "DRIFT",
                    "OK",
                    "OK",
                    "OK",
                    "OK"
                  ],
                  "textposition": "auto",
                  "type": "bar",
                  "x": [
                    "MedInc",
                    "HouseAge",
                    "AveRooms",
                    "AveBedrms",
                    "Population",
                    "AveOccup",
                    "Latitude",
                    "Longitude"
                  ],
                  "y": [
                    0.10660368217054261,
                    0.08876453488372094,
                    0.09605377906976753,
                    0.21304021317829458,
                    0.12471414728682162,
                    0.12180959302325578,
                    0.04955426356589149,
                    0.07265988372093024
                  ]
                }
              ],
              "layout": {
                "annotations": [
                  {
                    "showarrow": false,
                    "text": "Drift Threshold",
                    "x": 1,
                    "xanchor": "right",
                    "xref": "x domain",
                    "y": 0.1,
                    "yanchor": "bottom",
                    "yref": "y"
                  }
                ],
                "shapes": [
                  {
                    "line": {
                      "color": "orange",
                      "dash": "dash"
                    },
                    "type": "line",
                    "x0": 0,
                    "x1": 1,
                    "xref": "x domain",
                    "y0": 0.1,
                    "y1": 0.1,
                    "yref": "y"
                  }
                ],
                "showlegend": false,
                "template": {
                  "data": {
                    "bar": [
                      {
                        "error_x": {
                          "color": "#2a3f5f"
                        },
                        "error_y": {
                          "color": "#2a3f5f"
                        },
                        "marker": {
                          "line": {
                            "color": "#E5ECF6",
                            "width": 0.5
                          },
                          "pattern": {
                            "fillmode": "overlay",
                            "size": 10,
                            "solidity": 0.2
                          }
                        },
                        "type": "bar"
                      }
                    ],
                    "barpolar": [
                      {
                        "marker": {
                          "line": {
                            "color": "#E5ECF6",
                            "width": 0.5
                          },
                          "pattern": {
                            "fillmode": "overlay",
                            "size": 10,
                            "solidity": 0.2
                          }
                        },
                        "type": "barpolar"
                      }
                    ],
                    "carpet": [
                      {
                        "aaxis": {
                          "endlinecolor": "#2a3f5f",
                          "gridcolor": "white",
                          "linecolor": "white",
                          "minorgridcolor": "white",
                          "startlinecolor": "#2a3f5f"
                        },
                        "baxis": {
                          "endlinecolor": "#2a3f5f",
                          "gridcolor": "white",
                          "linecolor": "white",
                          "minorgridcolor": "white",
                          "startlinecolor": "#2a3f5f"
                        },
                        "type": "carpet"
                      }
                    ],
                    "choropleth": [
                      {
                        "colorbar": {
                          "outlinewidth": 0,
                          "ticks": ""
                        },
                        "type": "choropleth"
                      }
                    ],
                    "contour": [
                      {
                        "colorbar": {
                          "outlinewidth": 0,
                          "ticks": ""
                        },
                        "colorscale": [
                          [
                            0,
                            "#0d0887"
                          ],
                          [
                            0.1111111111111111,
                            "#46039f"
                          ],
                          [
                            0.2222222222222222,
                            "#7201a8"
                          ],
                          [
                            0.3333333333333333,
                            "#9c179e"
                          ],
                          [
                            0.4444444444444444,
                            "#bd3786"
                          ],
                          [
                            0.5555555555555556,
                            "#d8576b"
                          ],
                          [
                            0.6666666666666666,
                            "#ed7953"
                          ],
                          [
                            0.7777777777777778,
                            "#fb9f3a"
                          ],
                          [
                            0.8888888888888888,
                            "#fdca26"
                          ],
                          [
                            1,
                            "#f0f921"
                          ]
                        ],
                        "type": "contour"
                      }
                    ],
                    "contourcarpet": [
                      {
                        "colorbar": {
                          "outlinewidth": 0,
                          "ticks": ""
                        },
                        "type": "contourcarpet"
                      }
                    ],
                    "heatmap": [
                      {
                        "colorbar": {
                          "outlinewidth": 0,
                          "ticks": ""
                        },
                        "colorscale": [
                          [
                            0,
                            "#0d0887"
                          ],
                          [
                            0.1111111111111111,
                            "#46039f"
                          ],
                          [
                            0.2222222222222222,
                            "#7201a8"
                          ],
                          [
                            0.3333333333333333,
                            "#9c179e"
                          ],
                          [
                            0.4444444444444444,
                            "#bd3786"
                          ],
                          [
                            0.5555555555555556,
                            "#d8576b"
                          ],
                          [
                            0.6666666666666666,
                            "#ed7953"
                          ],
                          [
                            0.7777777777777778,
                            "#fb9f3a"
                          ],
                          [
                            0.8888888888888888,
                            "#fdca26"
                          ],
                          [
                            1,
                            "#f0f921"
                          ]
                        ],
                        "type": "heatmap"
                      }
                    ],
                    "heatmapgl": [
                      {
                        "colorbar": {
                          "outlinewidth": 0,
                          "ticks": ""
                        },
                        "colorscale": [
                          [
                            0,
                            "#0d0887"
                          ],
                          [
                            0.1111111111111111,
                            "#46039f"
                          ],
                          [
                            0.2222222222222222,
                            "#7201a8"
                          ],
                          [
                            0.3333333333333333,
                            "#9c179e"
                          ],
                          [
                            0.4444444444444444,
                            "#bd3786"
                          ],
                          [
                            0.5555555555555556,
                            "#d8576b"
                          ],
                          [
                            0.6666666666666666,
                            "#ed7953"
                          ],
                          [
                            0.7777777777777778,
                            "#fb9f3a"
                          ],
                          [
                            0.8888888888888888,
                            "#fdca26"
                          ],
                          [
                            1,
                            "#f0f921"
                          ]
                        ],
                        "type": "heatmapgl"
                      }
                    ],
                    "histogram": [
                      {
                        "marker": {
                          "pattern": {
                            "fillmode": "overlay",
                            "size": 10,
                            "solidity": 0.2
                          }
                        },
                        "type": "histogram"
                      }
                    ],
                    "histogram2d": [
                      {
                        "colorbar": {
                          "outlinewidth": 0,
                          "ticks": ""
                        },
                        "colorscale": [
                          [
                            0,
                            "#0d0887"
                          ],
                          [
                            0.1111111111111111,
                            "#46039f"
                          ],
                          [
                            0.2222222222222222,
                            "#7201a8"
                          ],
                          [
                            0.3333333333333333,
                            "#9c179e"
                          ],
                          [
                            0.4444444444444444,
                            "#bd3786"
                          ],
                          [
                            0.5555555555555556,
                            "#d8576b"
                          ],
                          [
                            0.6666666666666666,
                            "#ed7953"
                          ],
                          [
                            0.7777777777777778,
                            "#fb9f3a"
                          ],
                          [
                            0.8888888888888888,
                            "#fdca26"
                          ],
                          [
                            1,
                            "#f0f921"
                          ]
                        ],
                        "type": "histogram2d"
                      }
                    ],
                    "histogram2dcontour": [
                      {
                        "colorbar": {
                          "outlinewidth": 0,
                          "ticks": ""
                        },
                        "colorscale": [
                          [
                            0,
                            "#0d0887"
                          ],
                          [
                            0.1111111111111111,
                            "#46039f"
                          ],
                          [
                            0.2222222222222222,
                            "#7201a8"
                          ],
                          [
                            0.3333333333333333,
                            "#9c179e"
                          ],
                          [
                            0.4444444444444444,
                            "#bd3786"
                          ],
                          [
                            0.5555555555555556,
                            "#d8576b"
                          ],
                          [
                            0.6666666666666666,
                            "#ed7953"
                          ],
                          [
                            0.7777777777777778,
                            "#fb9f3a"
                          ],
                          [
                            0.8888888888888888,
                            "#fdca26"
                          ],
                          [
                            1,
                            "#f0f921"
                          ]
                        ],
                        "type": "histogram2dcontour"
                      }
                    ],
                    "mesh3d": [
                      {
                        "colorbar": {
                          "outlinewidth": 0,
                          "ticks": ""
                        },
                        "type": "mesh3d"
                      }
                    ],
                    "parcoords": [
                      {
                        "line": {
                          "colorbar": {
                            "outlinewidth": 0,
                            "ticks": ""
                          }
                        },
                        "type": "parcoords"
                      }
                    ],
                    "pie": [
                      {
                        "automargin": true,
                        "type": "pie"
                      }
                    ],
                    "scatter": [
                      {
                        "fillpattern": {
                          "fillmode": "overlay",
                          "size": 10,
                          "solidity": 0.2
                        },
                        "type": "scatter"
                      }
                    ],
                    "scatter3d": [
                      {
                        "line": {
                          "colorbar": {
                            "outlinewidth": 0,
                            "ticks": ""
                          }
                        },
                        "marker": {
                          "colorbar": {
                            "outlinewidth": 0,
                            "ticks": ""
                          }
                        },
                        "type": "scatter3d"
                      }
                    ],
                    "scattercarpet": [
                      {
                        "marker": {
                          "colorbar": {
                            "outlinewidth": 0,
                            "ticks": ""
                          }
                        },
                        "type": "scattercarpet"
                      }
                    ],
                    "scattergeo": [
                      {
                        "marker": {
                          "colorbar": {
                            "outlinewidth": 0,
                            "ticks": ""
                          }
                        },
                        "type": "scattergeo"
                      }
                    ],
                    "scattergl": [
                      {
                        "marker": {
                          "colorbar": {
                            "outlinewidth": 0,
                            "ticks": ""
                          }
                        },
                        "type": "scattergl"
                      }
                    ],
                    "scattermapbox": [
                      {
                        "marker": {
                          "colorbar": {
                            "outlinewidth": 0,
                            "ticks": ""
                          }
                        },
                        "type": "scattermapbox"
                      }
                    ],
                    "scatterpolar": [
                      {
                        "marker": {
                          "colorbar": {
                            "outlinewidth": 0,
                            "ticks": ""
                          }
                        },
                        "type": "scatterpolar"
                      }
                    ],
                    "scatterpolargl": [
                      {
                        "marker": {
                          "colorbar": {
                            "outlinewidth": 0,
                            "ticks": ""
                          }
                        },
                        "type": "scatterpolargl"
                      }
                    ],
                    "scatterternary": [
                      {
                        "marker": {
                          "colorbar": {
                            "outlinewidth": 0,
                            "ticks": ""
                          }
                        },
                        "type": "scatterternary"
                      }
                    ],
                    "surface": [
                      {
                        "colorbar": {
                          "outlinewidth": 0,
                          "ticks": ""
                        },
                        "colorscale": [
                          [
                            0,
                            "#0d0887"
                          ],
                          [
                            0.1111111111111111,
                            "#46039f"
                          ],
                          [
                            0.2222222222222222,
                            "#7201a8"
                          ],
                          [
                            0.3333333333333333,
                            "#9c179e"
                          ],
                          [
                            0.4444444444444444,
                            "#bd3786"
                          ],
                          [
                            0.5555555555555556,
                            "#d8576b"
                          ],
                          [
                            0.6666666666666666,
                            "#ed7953"
                          ],
                          [
                            0.7777777777777778,
                            "#fb9f3a"
                          ],
                          [
                            0.8888888888888888,
                            "#fdca26"
                          ],
                          [
                            1,
                            "#f0f921"
                          ]
                        ],
                        "type": "surface"
                      }
                    ],
                    "table": [
                      {
                        "cells": {
                          "fill": {
                            "color": "#EBF0F8"
                          },
                          "line": {
                            "color": "white"
                          }
                        },
                        "header": {
                          "fill": {
                            "color": "#C8D4E3"
                          },
                          "line": {
                            "color": "white"
                          }
                        },
                        "type": "table"
                      }
                    ]
                  },
                  "layout": {
                    "annotationdefaults": {
                      "arrowcolor": "#2a3f5f",
                      "arrowhead": 0,
                      "arrowwidth": 1
                    },
                    "autotypenumbers": "strict",
                    "coloraxis": {
                      "colorbar": {
                        "outlinewidth": 0,
                        "ticks": ""
                      }
                    },
                    "colorscale": {
                      "diverging": [
                        [
                          0,
                          "#8e0152"
                        ],
                        [
                          0.1,
                          "#c51b7d"
                        ],
                        [
                          0.2,
                          "#de77ae"
                        ],
                        [
                          0.3,
                          "#f1b6da"
                        ],
                        [
                          0.4,
                          "#fde0ef"
                        ],
                        [
                          0.5,
                          "#f7f7f7"
                        ],
                        [
                          0.6,
                          "#e6f5d0"
                        ],
                        [
                          0.7,
                          "#b8e186"
                        ],
                        [
                          0.8,
                          "#7fbc41"
                        ],
                        [
                          0.9,
                          "#4d9221"
                        ],
                        [
                          1,
                          "#276419"
                        ]
                      ],
                      "sequential": [
                        [
                          0,
                          "#0d0887"
                        ],
                        [
                          0.1111111111111111,
                          "#46039f"
                        ],
                        [
                          0.2222222222222222,
                          "#7201a8"
                        ],
                        [
                          0.3333333333333333,
                          "#9c179e"
                        ],
                        [
                          0.4444444444444444,
                          "#bd3786"
                        ],
                        [
                          0.5555555555555556,
                          "#d8576b"
                        ],
                        [
                          0.6666666666666666,
                          "#ed7953"
                        ],
                        [
                          0.7777777777777778,
                          "#fb9f3a"
                        ],
                        [
                          0.8888888888888888,
                          "#fdca26"
                        ],
                        [
                          1,
                          "#f0f921"
                        ]
                      ],
                      "sequentialminus": [
                        [
                          0,
                          "#0d0887"
                        ],
                        [
                          0.1111111111111111,
                          "#46039f"
                        ],
                        [
                          0.2222222222222222,
                          "#7201a8"
                        ],
                        [
                          0.3333333333333333,
                          "#9c179e"
                        ],
                        [
                          0.4444444444444444,
                          "#bd3786"
                        ],
                        [
                          0.5555555555555556,
                          "#d8576b"
                        ],
                        [
                          0.6666666666666666,
                          "#ed7953"
                        ],
                        [
                          0.7777777777777778,
                          "#fb9f3a"
                        ],
                        [
                          0.8888888888888888,
                          "#fdca26"
                        ],
                        [
                          1,
                          "#f0f921"
                        ]
                      ]
                    },
                    "colorway": [
                      "#636efa",
                      "#EF553B",
                      "#00cc96",
                      "#ab63fa",
                      "#FFA15A",
                      "#19d3f3",
                      "#FF6692",
                      "#B6E880",
                      "#FF97FF",
                      "#FECB52"
                    ],
                    "font": {
                      "color": "#2a3f5f"
                    },
                    "geo": {
                      "bgcolor": "white",
                      "lakecolor": "white",
                      "landcolor": "#E5ECF6",
                      "showlakes": true,
                      "showland": true,
                      "subunitcolor": "white"
                    },
                    "hoverlabel": {
                      "align": "left"
                    },
                    "hovermode": "closest",
                    "mapbox": {
                      "style": "light"
                    },
                    "paper_bgcolor": "white",
                    "plot_bgcolor": "#E5ECF6",
                    "polar": {
                      "angularaxis": {
                        "gridcolor": "white",
                        "linecolor": "white",
                        "ticks": ""
                      },
                      "bgcolor": "#E5ECF6",
                      "radialaxis": {
                        "gridcolor": "white",
                        "linecolor": "white",
                        "ticks": ""
                      }
                    },
                    "scene": {
                      "xaxis": {
                        "backgroundcolor": "#E5ECF6",
                        "gridcolor": "white",
                        "gridwidth": 2,
                        "linecolor": "white",
                        "showbackground": true,
                        "ticks": "",
                        "zerolinecolor": "white"
                      },
                      "yaxis": {
                        "backgroundcolor": "#E5ECF6",
                        "gridcolor": "white",
                        "gridwidth": 2,
                        "linecolor": "white",
                        "showbackground": true,
                        "ticks": "",
                        "zerolinecolor": "white"
                      },
                      "zaxis": {
                        "backgroundcolor": "#E5ECF6",
                        "gridcolor": "white",
                        "gridwidth": 2,
                        "linecolor": "white",
                        "showbackground": true,
                        "ticks": "",
                        "zerolinecolor": "white"
                      }
                    },
                    "shapedefaults": {
                      "line": {
                        "color": "#2a3f5f"
                      }
                    },
                    "ternary": {
                      "aaxis": {
                        "gridcolor": "white",
                        "linecolor": "white",
                        "ticks": ""
                      },
                      "baxis": {
                        "gridcolor": "white",
                        "linecolor": "white",
                        "ticks": ""
                      },
                      "bgcolor": "#E5ECF6",
                      "caxis": {
                        "gridcolor": "white",
                        "linecolor": "white",
                        "ticks": ""
                      }
                    },
                    "title": {
                      "x": 0.05
                    },
                    "xaxis": {
                      "automargin": true,
                      "gridcolor": "white",
                      "linecolor": "white",
                      "ticks": "",
                      "title": {
                        "standoff": 15
                      },
                      "zerolinecolor": "white",
                      "zerolinewidth": 2
                    },
                    "yaxis": {
                      "automargin": true,
                      "gridcolor": "white",
                      "linecolor": "white",
                      "ticks": "",
                      "title": {
                        "standoff": 15
                      },
                      "zerolinecolor": "white",
                      "zerolinewidth": 2
                    }
                  }
                },
                "title": {
                  "text": "Data Drift Detection Results"
                },
                "xaxis": {
                  "title": {
                    "text": "Features"
                  }
                },
                "yaxis": {
                  "title": {
                    "text": "Drift Score"
                  }
                }
              }
            }
          },
          "metadata": {},
          "output_type": "display_data"
        },
        {
          "name": "stdout",
          "output_type": "stream",
          "text": [
            "✅ Drift dashboard created!\n",
            "📈 Creating system health dashboard...\n"
          ]
        },
        {
          "data": {
            "application/vnd.plotly.v1+json": {
              "config": {
                "plotlyServerURL": "https://plot.ly"
              },
              "data": [
                {
                  "domain": {
                    "x": [
                      0,
                      0.2888888888888889
                    ],
                    "y": [
                      0,
                      1
                    ]
                  },
                  "gauge": {
                    "axis": {
                      "range": [
                        null,
                        100
                      ]
                    },
                    "bar": {
                      "color": "darkblue"
                    },
                    "steps": [
                      {
                        "color": "lightgray",
                        "range": [
                          0,
                          50
                        ]
                      },
                      {
                        "color": "yellow",
                        "range": [
                          50,
                          80
                        ]
                      },
                      {
                        "color": "red",
                        "range": [
                          80,
                          100
                        ]
                      }
                    ],
                    "threshold": {
                      "line": {
                        "color": "red",
                        "width": 4
                      },
                      "thickness": 0.75,
                      "value": 90
                    }
                  },
                  "mode": "gauge+number",
                  "title": {
                    "text": "CPU %"
                  },
                  "type": "indicator",
                  "value": 16.6
                },
                {
                  "domain": {
                    "x": [
                      0.35555555555555557,
                      0.6444444444444445
                    ],
                    "y": [
                      0,
                      1
                    ]
                  },
                  "gauge": {
                    "axis": {
                      "range": [
                        null,
                        100
                      ]
                    },
                    "bar": {
                      "color": "darkgreen"
                    },
                    "steps": [
                      {
                        "color": "lightgray",
                        "range": [
                          0,
                          50
                        ]
                      },
                      {
                        "color": "yellow",
                        "range": [
                          50,
                          80
                        ]
                      },
                      {
                        "color": "red",
                        "range": [
                          80,
                          100
                        ]
                      }
                    ],
                    "threshold": {
                      "line": {
                        "color": "red",
                        "width": 4
                      },
                      "thickness": 0.75,
                      "value": 90
                    }
                  },
                  "mode": "gauge+number",
                  "title": {
                    "text": "Memory %"
                  },
                  "type": "indicator",
                  "value": 48.7
                },
                {
                  "domain": {
                    "x": [
                      0.7111111111111111,
                      1
                    ],
                    "y": [
                      0,
                      1
                    ]
                  },
                  "gauge": {
                    "axis": {
                      "range": [
                        null,
                        100
                      ]
                    },
                    "bar": {
                      "color": "darkorange"
                    },
                    "steps": [
                      {
                        "color": "lightgray",
                        "range": [
                          0,
                          50
                        ]
                      },
                      {
                        "color": "yellow",
                        "range": [
                          50,
                          80
                        ]
                      },
                      {
                        "color": "red",
                        "range": [
                          80,
                          100
                        ]
                      }
                    ],
                    "threshold": {
                      "line": {
                        "color": "red",
                        "width": 4
                      },
                      "thickness": 0.75,
                      "value": 90
                    }
                  },
                  "mode": "gauge+number",
                  "title": {
                    "text": "Disk %"
                  },
                  "type": "indicator",
                  "value": 92.7
                }
              ],
              "layout": {
                "annotations": [
                  {
                    "font": {
                      "size": 16
                    },
                    "showarrow": false,
                    "text": "CPU Usage",
                    "x": 0.14444444444444446,
                    "xanchor": "center",
                    "xref": "paper",
                    "y": 1,
                    "yanchor": "bottom",
                    "yref": "paper"
                  },
                  {
                    "font": {
                      "size": 16
                    },
                    "showarrow": false,
                    "text": "Memory Usage",
                    "x": 0.5,
                    "xanchor": "center",
                    "xref": "paper",
                    "y": 1,
                    "yanchor": "bottom",
                    "yref": "paper"
                  },
                  {
                    "font": {
                      "size": 16
                    },
                    "showarrow": false,
                    "text": "Disk Usage",
                    "x": 0.8555555555555556,
                    "xanchor": "center",
                    "xref": "paper",
                    "y": 1,
                    "yanchor": "bottom",
                    "yref": "paper"
                  }
                ],
                "height": 400,
                "template": {
                  "data": {
                    "bar": [
                      {
                        "error_x": {
                          "color": "#2a3f5f"
                        },
                        "error_y": {
                          "color": "#2a3f5f"
                        },
                        "marker": {
                          "line": {
                            "color": "#E5ECF6",
                            "width": 0.5
                          },
                          "pattern": {
                            "fillmode": "overlay",
                            "size": 10,
                            "solidity": 0.2
                          }
                        },
                        "type": "bar"
                      }
                    ],
                    "barpolar": [
                      {
                        "marker": {
                          "line": {
                            "color": "#E5ECF6",
                            "width": 0.5
                          },
                          "pattern": {
                            "fillmode": "overlay",
                            "size": 10,
                            "solidity": 0.2
                          }
                        },
                        "type": "barpolar"
                      }
                    ],
                    "carpet": [
                      {
                        "aaxis": {
                          "endlinecolor": "#2a3f5f",
                          "gridcolor": "white",
                          "linecolor": "white",
                          "minorgridcolor": "white",
                          "startlinecolor": "#2a3f5f"
                        },
                        "baxis": {
                          "endlinecolor": "#2a3f5f",
                          "gridcolor": "white",
                          "linecolor": "white",
                          "minorgridcolor": "white",
                          "startlinecolor": "#2a3f5f"
                        },
                        "type": "carpet"
                      }
                    ],
                    "choropleth": [
                      {
                        "colorbar": {
                          "outlinewidth": 0,
                          "ticks": ""
                        },
                        "type": "choropleth"
                      }
                    ],
                    "contour": [
                      {
                        "colorbar": {
                          "outlinewidth": 0,
                          "ticks": ""
                        },
                        "colorscale": [
                          [
                            0,
                            "#0d0887"
                          ],
                          [
                            0.1111111111111111,
                            "#46039f"
                          ],
                          [
                            0.2222222222222222,
                            "#7201a8"
                          ],
                          [
                            0.3333333333333333,
                            "#9c179e"
                          ],
                          [
                            0.4444444444444444,
                            "#bd3786"
                          ],
                          [
                            0.5555555555555556,
                            "#d8576b"
                          ],
                          [
                            0.6666666666666666,
                            "#ed7953"
                          ],
                          [
                            0.7777777777777778,
                            "#fb9f3a"
                          ],
                          [
                            0.8888888888888888,
                            "#fdca26"
                          ],
                          [
                            1,
                            "#f0f921"
                          ]
                        ],
                        "type": "contour"
                      }
                    ],
                    "contourcarpet": [
                      {
                        "colorbar": {
                          "outlinewidth": 0,
                          "ticks": ""
                        },
                        "type": "contourcarpet"
                      }
                    ],
                    "heatmap": [
                      {
                        "colorbar": {
                          "outlinewidth": 0,
                          "ticks": ""
                        },
                        "colorscale": [
                          [
                            0,
                            "#0d0887"
                          ],
                          [
                            0.1111111111111111,
                            "#46039f"
                          ],
                          [
                            0.2222222222222222,
                            "#7201a8"
                          ],
                          [
                            0.3333333333333333,
                            "#9c179e"
                          ],
                          [
                            0.4444444444444444,
                            "#bd3786"
                          ],
                          [
                            0.5555555555555556,
                            "#d8576b"
                          ],
                          [
                            0.6666666666666666,
                            "#ed7953"
                          ],
                          [
                            0.7777777777777778,
                            "#fb9f3a"
                          ],
                          [
                            0.8888888888888888,
                            "#fdca26"
                          ],
                          [
                            1,
                            "#f0f921"
                          ]
                        ],
                        "type": "heatmap"
                      }
                    ],
                    "heatmapgl": [
                      {
                        "colorbar": {
                          "outlinewidth": 0,
                          "ticks": ""
                        },
                        "colorscale": [
                          [
                            0,
                            "#0d0887"
                          ],
                          [
                            0.1111111111111111,
                            "#46039f"
                          ],
                          [
                            0.2222222222222222,
                            "#7201a8"
                          ],
                          [
                            0.3333333333333333,
                            "#9c179e"
                          ],
                          [
                            0.4444444444444444,
                            "#bd3786"
                          ],
                          [
                            0.5555555555555556,
                            "#d8576b"
                          ],
                          [
                            0.6666666666666666,
                            "#ed7953"
                          ],
                          [
                            0.7777777777777778,
                            "#fb9f3a"
                          ],
                          [
                            0.8888888888888888,
                            "#fdca26"
                          ],
                          [
                            1,
                            "#f0f921"
                          ]
                        ],
                        "type": "heatmapgl"
                      }
                    ],
                    "histogram": [
                      {
                        "marker": {
                          "pattern": {
                            "fillmode": "overlay",
                            "size": 10,
                            "solidity": 0.2
                          }
                        },
                        "type": "histogram"
                      }
                    ],
                    "histogram2d": [
                      {
                        "colorbar": {
                          "outlinewidth": 0,
                          "ticks": ""
                        },
                        "colorscale": [
                          [
                            0,
                            "#0d0887"
                          ],
                          [
                            0.1111111111111111,
                            "#46039f"
                          ],
                          [
                            0.2222222222222222,
                            "#7201a8"
                          ],
                          [
                            0.3333333333333333,
                            "#9c179e"
                          ],
                          [
                            0.4444444444444444,
                            "#bd3786"
                          ],
                          [
                            0.5555555555555556,
                            "#d8576b"
                          ],
                          [
                            0.6666666666666666,
                            "#ed7953"
                          ],
                          [
                            0.7777777777777778,
                            "#fb9f3a"
                          ],
                          [
                            0.8888888888888888,
                            "#fdca26"
                          ],
                          [
                            1,
                            "#f0f921"
                          ]
                        ],
                        "type": "histogram2d"
                      }
                    ],
                    "histogram2dcontour": [
                      {
                        "colorbar": {
                          "outlinewidth": 0,
                          "ticks": ""
                        },
                        "colorscale": [
                          [
                            0,
                            "#0d0887"
                          ],
                          [
                            0.1111111111111111,
                            "#46039f"
                          ],
                          [
                            0.2222222222222222,
                            "#7201a8"
                          ],
                          [
                            0.3333333333333333,
                            "#9c179e"
                          ],
                          [
                            0.4444444444444444,
                            "#bd3786"
                          ],
                          [
                            0.5555555555555556,
                            "#d8576b"
                          ],
                          [
                            0.6666666666666666,
                            "#ed7953"
                          ],
                          [
                            0.7777777777777778,
                            "#fb9f3a"
                          ],
                          [
                            0.8888888888888888,
                            "#fdca26"
                          ],
                          [
                            1,
                            "#f0f921"
                          ]
                        ],
                        "type": "histogram2dcontour"
                      }
                    ],
                    "mesh3d": [
                      {
                        "colorbar": {
                          "outlinewidth": 0,
                          "ticks": ""
                        },
                        "type": "mesh3d"
                      }
                    ],
                    "parcoords": [
                      {
                        "line": {
                          "colorbar": {
                            "outlinewidth": 0,
                            "ticks": ""
                          }
                        },
                        "type": "parcoords"
                      }
                    ],
                    "pie": [
                      {
                        "automargin": true,
                        "type": "pie"
                      }
                    ],
                    "scatter": [
                      {
                        "fillpattern": {
                          "fillmode": "overlay",
                          "size": 10,
                          "solidity": 0.2
                        },
                        "type": "scatter"
                      }
                    ],
                    "scatter3d": [
                      {
                        "line": {
                          "colorbar": {
                            "outlinewidth": 0,
                            "ticks": ""
                          }
                        },
                        "marker": {
                          "colorbar": {
                            "outlinewidth": 0,
                            "ticks": ""
                          }
                        },
                        "type": "scatter3d"
                      }
                    ],
                    "scattercarpet": [
                      {
                        "marker": {
                          "colorbar": {
                            "outlinewidth": 0,
                            "ticks": ""
                          }
                        },
                        "type": "scattercarpet"
                      }
                    ],
                    "scattergeo": [
                      {
                        "marker": {
                          "colorbar": {
                            "outlinewidth": 0,
                            "ticks": ""
                          }
                        },
                        "type": "scattergeo"
                      }
                    ],
                    "scattergl": [
                      {
                        "marker": {
                          "colorbar": {
                            "outlinewidth": 0,
                            "ticks": ""
                          }
                        },
                        "type": "scattergl"
                      }
                    ],
                    "scattermapbox": [
                      {
                        "marker": {
                          "colorbar": {
                            "outlinewidth": 0,
                            "ticks": ""
                          }
                        },
                        "type": "scattermapbox"
                      }
                    ],
                    "scatterpolar": [
                      {
                        "marker": {
                          "colorbar": {
                            "outlinewidth": 0,
                            "ticks": ""
                          }
                        },
                        "type": "scatterpolar"
                      }
                    ],
                    "scatterpolargl": [
                      {
                        "marker": {
                          "colorbar": {
                            "outlinewidth": 0,
                            "ticks": ""
                          }
                        },
                        "type": "scatterpolargl"
                      }
                    ],
                    "scatterternary": [
                      {
                        "marker": {
                          "colorbar": {
                            "outlinewidth": 0,
                            "ticks": ""
                          }
                        },
                        "type": "scatterternary"
                      }
                    ],
                    "surface": [
                      {
                        "colorbar": {
                          "outlinewidth": 0,
                          "ticks": ""
                        },
                        "colorscale": [
                          [
                            0,
                            "#0d0887"
                          ],
                          [
                            0.1111111111111111,
                            "#46039f"
                          ],
                          [
                            0.2222222222222222,
                            "#7201a8"
                          ],
                          [
                            0.3333333333333333,
                            "#9c179e"
                          ],
                          [
                            0.4444444444444444,
                            "#bd3786"
                          ],
                          [
                            0.5555555555555556,
                            "#d8576b"
                          ],
                          [
                            0.6666666666666666,
                            "#ed7953"
                          ],
                          [
                            0.7777777777777778,
                            "#fb9f3a"
                          ],
                          [
                            0.8888888888888888,
                            "#fdca26"
                          ],
                          [
                            1,
                            "#f0f921"
                          ]
                        ],
                        "type": "surface"
                      }
                    ],
                    "table": [
                      {
                        "cells": {
                          "fill": {
                            "color": "#EBF0F8"
                          },
                          "line": {
                            "color": "white"
                          }
                        },
                        "header": {
                          "fill": {
                            "color": "#C8D4E3"
                          },
                          "line": {
                            "color": "white"
                          }
                        },
                        "type": "table"
                      }
                    ]
                  },
                  "layout": {
                    "annotationdefaults": {
                      "arrowcolor": "#2a3f5f",
                      "arrowhead": 0,
                      "arrowwidth": 1
                    },
                    "autotypenumbers": "strict",
                    "coloraxis": {
                      "colorbar": {
                        "outlinewidth": 0,
                        "ticks": ""
                      }
                    },
                    "colorscale": {
                      "diverging": [
                        [
                          0,
                          "#8e0152"
                        ],
                        [
                          0.1,
                          "#c51b7d"
                        ],
                        [
                          0.2,
                          "#de77ae"
                        ],
                        [
                          0.3,
                          "#f1b6da"
                        ],
                        [
                          0.4,
                          "#fde0ef"
                        ],
                        [
                          0.5,
                          "#f7f7f7"
                        ],
                        [
                          0.6,
                          "#e6f5d0"
                        ],
                        [
                          0.7,
                          "#b8e186"
                        ],
                        [
                          0.8,
                          "#7fbc41"
                        ],
                        [
                          0.9,
                          "#4d9221"
                        ],
                        [
                          1,
                          "#276419"
                        ]
                      ],
                      "sequential": [
                        [
                          0,
                          "#0d0887"
                        ],
                        [
                          0.1111111111111111,
                          "#46039f"
                        ],
                        [
                          0.2222222222222222,
                          "#7201a8"
                        ],
                        [
                          0.3333333333333333,
                          "#9c179e"
                        ],
                        [
                          0.4444444444444444,
                          "#bd3786"
                        ],
                        [
                          0.5555555555555556,
                          "#d8576b"
                        ],
                        [
                          0.6666666666666666,
                          "#ed7953"
                        ],
                        [
                          0.7777777777777778,
                          "#fb9f3a"
                        ],
                        [
                          0.8888888888888888,
                          "#fdca26"
                        ],
                        [
                          1,
                          "#f0f921"
                        ]
                      ],
                      "sequentialminus": [
                        [
                          0,
                          "#0d0887"
                        ],
                        [
                          0.1111111111111111,
                          "#46039f"
                        ],
                        [
                          0.2222222222222222,
                          "#7201a8"
                        ],
                        [
                          0.3333333333333333,
                          "#9c179e"
                        ],
                        [
                          0.4444444444444444,
                          "#bd3786"
                        ],
                        [
                          0.5555555555555556,
                          "#d8576b"
                        ],
                        [
                          0.6666666666666666,
                          "#ed7953"
                        ],
                        [
                          0.7777777777777778,
                          "#fb9f3a"
                        ],
                        [
                          0.8888888888888888,
                          "#fdca26"
                        ],
                        [
                          1,
                          "#f0f921"
                        ]
                      ]
                    },
                    "colorway": [
                      "#636efa",
                      "#EF553B",
                      "#00cc96",
                      "#ab63fa",
                      "#FFA15A",
                      "#19d3f3",
                      "#FF6692",
                      "#B6E880",
                      "#FF97FF",
                      "#FECB52"
                    ],
                    "font": {
                      "color": "#2a3f5f"
                    },
                    "geo": {
                      "bgcolor": "white",
                      "lakecolor": "white",
                      "landcolor": "#E5ECF6",
                      "showlakes": true,
                      "showland": true,
                      "subunitcolor": "white"
                    },
                    "hoverlabel": {
                      "align": "left"
                    },
                    "hovermode": "closest",
                    "mapbox": {
                      "style": "light"
                    },
                    "paper_bgcolor": "white",
                    "plot_bgcolor": "#E5ECF6",
                    "polar": {
                      "angularaxis": {
                        "gridcolor": "white",
                        "linecolor": "white",
                        "ticks": ""
                      },
                      "bgcolor": "#E5ECF6",
                      "radialaxis": {
                        "gridcolor": "white",
                        "linecolor": "white",
                        "ticks": ""
                      }
                    },
                    "scene": {
                      "xaxis": {
                        "backgroundcolor": "#E5ECF6",
                        "gridcolor": "white",
                        "gridwidth": 2,
                        "linecolor": "white",
                        "showbackground": true,
                        "ticks": "",
                        "zerolinecolor": "white"
                      },
                      "yaxis": {
                        "backgroundcolor": "#E5ECF6",
                        "gridcolor": "white",
                        "gridwidth": 2,
                        "linecolor": "white",
                        "showbackground": true,
                        "ticks": "",
                        "zerolinecolor": "white"
                      },
                      "zaxis": {
                        "backgroundcolor": "#E5ECF6",
                        "gridcolor": "white",
                        "gridwidth": 2,
                        "linecolor": "white",
                        "showbackground": true,
                        "ticks": "",
                        "zerolinecolor": "white"
                      }
                    },
                    "shapedefaults": {
                      "line": {
                        "color": "#2a3f5f"
                      }
                    },
                    "ternary": {
                      "aaxis": {
                        "gridcolor": "white",
                        "linecolor": "white",
                        "ticks": ""
                      },
                      "baxis": {
                        "gridcolor": "white",
                        "linecolor": "white",
                        "ticks": ""
                      },
                      "bgcolor": "#E5ECF6",
                      "caxis": {
                        "gridcolor": "white",
                        "linecolor": "white",
                        "ticks": ""
                      }
                    },
                    "title": {
                      "x": 0.05
                    },
                    "xaxis": {
                      "automargin": true,
                      "gridcolor": "white",
                      "linecolor": "white",
                      "ticks": "",
                      "title": {
                        "standoff": 15
                      },
                      "zerolinecolor": "white",
                      "zerolinewidth": 2
                    },
                    "yaxis": {
                      "automargin": true,
                      "gridcolor": "white",
                      "linecolor": "white",
                      "ticks": "",
                      "title": {
                        "standoff": 15
                      },
                      "zerolinecolor": "white",
                      "zerolinewidth": 2
                    }
                  }
                },
                "title": {
                  "text": "System Health Monitoring"
                }
              }
            }
          },
          "metadata": {},
          "output_type": "display_data"
        },
        {
          "name": "stdout",
          "output_type": "stream",
          "text": [
            "✅ System health dashboard created!\n",
            "\n",
            "📊 7. Monitoring Report\n",
            "------------------------------\n",
            "📊 MONITORING REPORT\n",
            "==================================================\n",
            "\n",
            "🖥️  SYSTEM HEALTH:\n",
            "   CPU Usage: 7.3%\n",
            "   Memory Usage: 48.7%\n",
            "   Disk Usage: 92.7%\n",
            "\n",
            "📈 MODEL ACTIVITY (Last 24h):\n",
            "   Total Predictions: 200\n",
            "   Avg Response Time: 0.002s\n",
            "   Max Response Time: 0.005s\n",
            "   Latest Accuracy: 0.839\n",
            "\n",
            "✅ Report generated successfully!\n",
            "\n",
            "📊 8. Drift Visualization\n",
            "------------------------------\n",
            "📈 Creating drift visualizations...\n"
          ]
        },
        {
          "data": {
            "image/png": "[encoded data removed]",
            "text/plain": [
              "<Figure size 1500x1000 with 4 Axes>"
            ]
          },
          "metadata": {},
          "output_type": "display_data"
        },
        {
          "name": "stdout",
          "output_type": "stream",
          "text": [
            "✅ Drift visualization created!\n",
            "\n",
            "============================================================\n",
            "🎉 Model Monitoring Demo Tamamlandı!\n",
            "============================================================\n",
            "\n",
            "📊 FINAL SUMMARY:\n",
            "   • Model Predictions: 100\n",
            "   • Baseline Accuracy: 0.8051\n",
            "   • Current Accuracy: 0.8388\n",
            "   • Features with Drift: 1\n",
            "   • Total Alerts: 1\n",
            "   • High Severity Alerts: 0\n",
            "   • System Status: 🟢 HEALTHY\n"
          ]
        }
      ],
      "source": [
        "# 🚀 Comprehensive Model Monitoring Demo\n",
        "\n",
        "print(\"🚀 Model Monitoring Demo Başlıyor...\")\n",
        "print(\"=\" * 60)\n",
        "\n",
        "# 1. Model hazırlama ve eğitme\n",
        "print(\"\\n📊 1. Model Hazırlama ve Eğitme\")\n",
        "print(\"-\" * 30)\n",
        "\n",
        "# Model eğit\n",
        "model = RandomForestRegressor(n_estimators=100, random_state=42)\n",
        "model.fit(X_train, y_train)\n",
        "\n",
        "# Test performansı\n",
        "y_pred = model.predict(X_test)\n",
        "baseline_accuracy = r2_score(y_test, y_pred)\n",
        "baseline_mse = mean_squared_error(y_test, y_pred)\n",
        "\n",
        "print(f\"✅ Model eğitildi!\")\n",
        "print(f\"📈 Baseline R² Score: {baseline_accuracy:.4f}\")\n",
        "print(f\"📈 Baseline MSE: {baseline_mse:.4f}\")\n",
        "\n",
        "# 2. Simulated Production Predictions\n",
        "print(\"\\n📊 2. Production Tahminleri Simülasyonu\")\n",
        "print(\"-\" * 30)\n",
        "\n",
        "# Simulated production data (biraz farklı dağılımla)\n",
        "np.random.seed(123)\n",
        "production_data = X_test + np.random.normal(0, 0.1, X_test.shape)  # Biraz noise ekle\n",
        "\n",
        "# Production predictions\n",
        "production_predictions = []\n",
        "response_times = []\n",
        "\n",
        "for i in range(100):  # 100 prediction simüle et\n",
        "    start_time = time.time()\n",
        "    \n",
        "    # Tahmin yap\n",
        "    sample_data = production_data[i:i+1]\n",
        "    prediction = model.predict(sample_data)[0]\n",
        "    \n",
        "    # Response time hesapla\n",
        "    response_time = time.time() - start_time\n",
        "    response_times.append(response_time)\n",
        "    \n",
        "    # Bazen gerçek değerler de gelir (delayed feedback)\n",
        "    actual_value = y_test[i] if np.random.random() > 0.7 else None\n",
        "    \n",
        "    # Log prediction\n",
        "    monitor.log_prediction(\n",
        "        model_version=\"v1.0\",\n",
        "        input_data=sample_data[0],\n",
        "        prediction=prediction,\n",
        "        actual_value=actual_value,\n",
        "        response_time=response_time\n",
        "    )\n",
        "    \n",
        "    production_predictions.append(prediction)\n",
        "\n",
        "print(f\"✅ {len(production_predictions)} production prediction logged!\")\n",
        "print(f\"⏱️ Avg response time: {np.mean(response_times):.4f}s\")\n",
        "\n",
        "# 3. Model Performance Monitoring\n",
        "print(\"\\n📊 3. Model Performance Monitoring\")\n",
        "print(\"-\" * 30)\n",
        "\n",
        "# Current performance hesapla\n",
        "current_predictions = np.array(production_predictions[:50])  # İlk 50 prediction\n",
        "current_actuals = y_test[:50]\n",
        "current_accuracy = r2_score(current_actuals, current_predictions)\n",
        "current_mse = mean_squared_error(current_actuals, current_predictions)\n",
        "\n",
        "print(f\"📈 Current R² Score: {current_accuracy:.4f}\")\n",
        "print(f\"📈 Current MSE: {current_mse:.4f}\")\n",
        "\n",
        "# Performance metrics'leri kaydet\n",
        "monitor.log_metric(\"accuracy\", current_accuracy, \"v1.0\")\n",
        "monitor.log_metric(\"mse\", current_mse, \"v1.0\")\n",
        "monitor.log_metric(\"avg_response_time\", np.mean(response_times), \"v1.0\")\n",
        "\n",
        "# Performance degradation kontrolü\n",
        "performance_alert = alerting_system.check_model_performance(\n",
        "    current_accuracy, baseline_accuracy\n",
        ")\n",
        "\n",
        "if performance_alert:\n",
        "    print(\"🚨 Performance degradation detected!\")\n",
        "else:\n",
        "    print(\"✅ Model performance is stable!\")\n",
        "\n",
        "# 4. Data Drift Detection\n",
        "print(\"\\n📊 4. Data Drift Detection\")\n",
        "print(\"-\" * 30)\n",
        "\n",
        "# Drift detection yap\n",
        "drift_results_ks = drift_detector.detect_drift_ks_test(production_data[:100])\n",
        "drift_results_psi = drift_detector.detect_drift_psi(production_data[:100])\n",
        "\n",
        "print(\"🔍 KS Test Results:\")\n",
        "drift_features = 0\n",
        "for feature, result in drift_results_ks.items():\n",
        "    status = \"DRIFT\" if result['is_drift'] else \"OK\"\n",
        "    print(f\"   {feature}: {status} (p-value: {result['p_value']:.4f})\")\n",
        "    if result['is_drift']:\n",
        "        drift_features += 1\n",
        "\n",
        "print(f\"\\n🔍 PSI Results:\")\n",
        "for feature, result in drift_results_psi.items():\n",
        "    status = \"DRIFT\" if result['is_drift'] else \"OK\"\n",
        "    print(f\"   {feature}: {status} (PSI: {result['psi']:.4f})\")\n",
        "\n",
        "# Drift results'ları kaydet\n",
        "drift_detector.log_drift_results(drift_results_ks, \"v1.0\", monitor)\n",
        "\n",
        "# Drift alerts\n",
        "drift_alerts = alerting_system.check_data_drift(drift_results_ks)\n",
        "print(f\"\\n🚨 Drift alerts sent: {len(drift_alerts)}\")\n",
        "\n",
        "# 5. System Health Check\n",
        "print(\"\\n📊 5. System Health Check\")\n",
        "print(\"-\" * 30)\n",
        "\n",
        "health_summary = alerting_system.run_health_check()\n",
        "\n",
        "# 6. Dashboard Creation\n",
        "print(\"\\n📊 6. Dashboard Creation\")\n",
        "print(\"-\" * 30)\n",
        "\n",
        "# Performance dashboard\n",
        "print(\"📈 Creating performance dashboard...\")\n",
        "try:\n",
        "    perf_dashboard = dashboard.create_performance_dashboard()\n",
        "    print(\"✅ Performance dashboard created!\")\n",
        "except Exception as e:\n",
        "    print(f\"⚠️ Dashboard creation failed: {e}\")\n",
        "\n",
        "# Drift dashboard\n",
        "print(\"📈 Creating drift dashboard...\")\n",
        "try:\n",
        "    drift_dashboard = dashboard.create_drift_dashboard(drift_results_ks)\n",
        "    print(\"✅ Drift dashboard created!\")\n",
        "except Exception as e:\n",
        "    print(f\"⚠️ Drift dashboard creation failed: {e}\")\n",
        "\n",
        "# System health dashboard\n",
        "print(\"📈 Creating system health dashboard...\")\n",
        "try:\n",
        "    health_dashboard = dashboard.create_system_health_dashboard()\n",
        "    print(\"✅ System health dashboard created!\")\n",
        "except Exception as e:\n",
        "    print(f\"⚠️ System health dashboard creation failed: {e}\")\n",
        "\n",
        "# 7. Monitoring Report\n",
        "print(\"\\n📊 7. Monitoring Report\")\n",
        "print(\"-\" * 30)\n",
        "\n",
        "dashboard.generate_monitoring_report()\n",
        "\n",
        "# 8. Drift Visualization\n",
        "print(\"\\n📊 8. Drift Visualization\")\n",
        "print(\"-\" * 30)\n",
        "\n",
        "print(\"📈 Creating drift visualizations...\")\n",
        "try:\n",
        "    # İlk feature için drift görselleştirme\n",
        "    drift_detector.visualize_drift(production_data[:100], feature_idx=0)\n",
        "    print(\"✅ Drift visualization created!\")\n",
        "except Exception as e:\n",
        "    print(f\"⚠️ Drift visualization failed: {e}\")\n",
        "\n",
        "print(\"\\n\" + \"=\" * 60)\n",
        "print(\"🎉 Model Monitoring Demo Tamamlandı!\")\n",
        "print(\"=\" * 60)\n",
        "\n",
        "# Final summary\n",
        "print(f\"\\n📊 FINAL SUMMARY:\")\n",
        "print(f\"   • Model Predictions: {len(production_predictions)}\")\n",
        "print(f\"   • Baseline Accuracy: {baseline_accuracy:.4f}\")\n",
        "print(f\"   • Current Accuracy: {current_accuracy:.4f}\")\n",
        "print(f\"   • Features with Drift: {drift_features}\")\n",
        "print(f\"   • Total Alerts: {health_summary['total_alerts']}\")\n",
        "print(f\"   • High Severity Alerts: {health_summary['high_severity']}\")\n",
        "print(f\"   • System Status: {'🟢 HEALTHY' if health_summary['high_severity'] == 0 else '🔴 NEEDS ATTENTION'}\")\n"
      ]
    },
    {
      "cell_type": "raw",
      "metadata": {
        "vscode": {
          "languageId": "raw"
        }
      },
      "source": [
        "## 6. Advanced Monitoring Techniques\n",
        "\n",
        "İleri seviye monitoring teknikleri:\n"
      ]
    },
    {
      "cell_type": "code",
      "execution_count": 7,
      "metadata": {},
      "outputs": [
        {
          "name": "stdout",
          "output_type": "stream",
          "text": [
            "✅ Advanced monitoring hazır!\n"
          ]
        }
      ],
      "source": [
        "class AdvancedMonitoring:\n",
        "    \"\"\"İleri seviye monitoring teknikleri\"\"\"\n",
        "    \n",
        "    def __init__(self, monitor):\n",
        "        self.monitor = monitor\n",
        "        self.model_versions = {}\n",
        "        self.ab_test_results = {}\n",
        "        \n",
        "    def model_comparison(self, model_a, model_b, test_data, test_labels, model_names=['Model A', 'Model B']):\n",
        "        \"\"\"İki modeli karşılaştır\"\"\"\n",
        "        print(\"🔄 Model Comparison Analysis\")\n",
        "        print(\"-\" * 40)\n",
        "        \n",
        "        # Model A predictions\n",
        "        pred_a = model_a.predict(test_data)\n",
        "        mse_a = mean_squared_error(test_labels, pred_a)\n",
        "        r2_a = r2_score(test_labels, pred_a)\n",
        "        \n",
        "        # Model B predictions\n",
        "        pred_b = model_b.predict(test_data)\n",
        "        mse_b = mean_squared_error(test_labels, pred_b)\n",
        "        r2_b = r2_score(test_labels, pred_b)\n",
        "        \n",
        "        print(f\"📊 {model_names[0]}:\")\n",
        "        print(f\"   MSE: {mse_a:.4f}\")\n",
        "        print(f\"   R²:  {r2_a:.4f}\")\n",
        "        \n",
        "        print(f\"📊 {model_names[1]}:\")\n",
        "        print(f\"   MSE: {mse_b:.4f}\")\n",
        "        print(f\"   R²:  {r2_b:.4f}\")\n",
        "        \n",
        "        # Winner\n",
        "        winner = model_names[0] if r2_a > r2_b else model_names[1]\n",
        "        improvement = abs(r2_a - r2_b)\n",
        "        \n",
        "        print(f\"\\n🏆 Winner: {winner}\")\n",
        "        print(f\"📈 Improvement: {improvement:.4f} R² points\")\n",
        "        \n",
        "        # Visualization\n",
        "        fig, axes = plt.subplots(1, 2, figsize=(15, 6))\n",
        "        \n",
        "        # Scatter plot\n",
        "        axes[0].scatter(test_labels, pred_a, alpha=0.6, label=model_names[0])\n",
        "        axes[0].scatter(test_labels, pred_b, alpha=0.6, label=model_names[1])\n",
        "        axes[0].plot([test_labels.min(), test_labels.max()], \n",
        "                    [test_labels.min(), test_labels.max()], 'r--', lw=2)\n",
        "        axes[0].set_xlabel('Actual')\n",
        "        axes[0].set_ylabel('Predicted')\n",
        "        axes[0].set_title('Predictions vs Actual')\n",
        "        axes[0].legend()\n",
        "        \n",
        "        # Residuals\n",
        "        residuals_a = test_labels - pred_a\n",
        "        residuals_b = test_labels - pred_b\n",
        "        \n",
        "        axes[1].scatter(pred_a, residuals_a, alpha=0.6, label=model_names[0])\n",
        "        axes[1].scatter(pred_b, residuals_b, alpha=0.6, label=model_names[1])\n",
        "        axes[1].axhline(y=0, color='r', linestyle='--')\n",
        "        axes[1].set_xlabel('Predicted')\n",
        "        axes[1].set_ylabel('Residuals')\n",
        "        axes[1].set_title('Residual Plot')\n",
        "        axes[1].legend()\n",
        "        \n",
        "        plt.tight_layout()\n",
        "        plt.show()\n",
        "        \n",
        "        return {\n",
        "            'model_a': {'mse': mse_a, 'r2': r2_a},\n",
        "            'model_b': {'mse': mse_b, 'r2': r2_b},\n",
        "            'winner': winner,\n",
        "            'improvement': improvement\n",
        "        }\n",
        "    \n",
        "    def feature_importance_monitoring(self, model, feature_names, reference_importance=None):\n",
        "        \"\"\"Feature importance değişimlerini izle\"\"\"\n",
        "        print(\"🔍 Feature Importance Monitoring\")\n",
        "        print(\"-\" * 40)\n",
        "        \n",
        "        # Current importance\n",
        "        if hasattr(model, 'feature_importances_'):\n",
        "            current_importance = model.feature_importances_\n",
        "        else:\n",
        "            print(\"⚠️ Model doesn't have feature_importances_ attribute\")\n",
        "            return None\n",
        "        \n",
        "        # DataFrame oluştur\n",
        "        importance_df = pd.DataFrame({\n",
        "            'feature': feature_names,\n",
        "            'importance': current_importance\n",
        "        }).sort_values('importance', ascending=False)\n",
        "        \n",
        "        print(\"📊 Top 10 Most Important Features:\")\n",
        "        for i, row in importance_df.head(10).iterrows():\n",
        "            print(f\"   {row['feature']}: {row['importance']:.4f}\")\n",
        "        \n",
        "        # Eğer reference importance varsa karşılaştır\n",
        "        if reference_importance is not None:\n",
        "            importance_df['reference_importance'] = reference_importance\n",
        "            importance_df['importance_change'] = importance_df['importance'] - importance_df['reference_importance']\n",
        "            \n",
        "            print(\"\\n📈 Biggest Changes in Feature Importance:\")\n",
        "            changes = importance_df.nlargest(5, 'importance_change')[['feature', 'importance_change']]\n",
        "            for i, row in changes.iterrows():\n",
        "                print(f\"   {row['feature']}: +{row['importance_change']:.4f}\")\n",
        "        \n",
        "        # Visualization\n",
        "        plt.figure(figsize=(12, 8))\n",
        "        top_features = importance_df.head(15)\n",
        "        \n",
        "        bars = plt.barh(range(len(top_features)), top_features['importance'])\n",
        "        plt.yticks(range(len(top_features)), top_features['feature'])\n",
        "        plt.xlabel('Feature Importance')\n",
        "        plt.title('Feature Importance Analysis')\n",
        "        plt.gca().invert_yaxis()\n",
        "        \n",
        "        # Renk kodlaması\n",
        "        for i, bar in enumerate(bars):\n",
        "            if reference_importance is not None:\n",
        "                change = top_features.iloc[i]['importance_change']\n",
        "                if change > 0.01:\n",
        "                    bar.set_color('green')\n",
        "                elif change < -0.01:\n",
        "                    bar.set_color('red')\n",
        "                else:\n",
        "                    bar.set_color('blue')\n",
        "        \n",
        "        plt.tight_layout()\n",
        "        plt.show()\n",
        "        \n",
        "        return importance_df\n",
        "    \n",
        "    def prediction_distribution_monitoring(self, predictions, reference_predictions=None):\n",
        "        \"\"\"Tahmin dağılımlarını izle\"\"\"\n",
        "        print(\"📊 Prediction Distribution Monitoring\")\n",
        "        print(\"-\" * 40)\n",
        "        \n",
        "        # İstatistikler\n",
        "        print(f\"📈 Current Predictions Statistics:\")\n",
        "        print(f\"   Mean: {np.mean(predictions):.4f}\")\n",
        "        print(f\"   Std:  {np.std(predictions):.4f}\")\n",
        "        print(f\"   Min:  {np.min(predictions):.4f}\")\n",
        "        print(f\"   Max:  {np.max(predictions):.4f}\")\n",
        "        \n",
        "        if reference_predictions is not None:\n",
        "            print(f\"\\n📈 Reference Predictions Statistics:\")\n",
        "            print(f\"   Mean: {np.mean(reference_predictions):.4f}\")\n",
        "            print(f\"   Std:  {np.std(reference_predictions):.4f}\")\n",
        "            print(f\"   Min:  {np.min(reference_predictions):.4f}\")\n",
        "            print(f\"   Max:  {np.max(reference_predictions):.4f}\")\n",
        "            \n",
        "            # Statistical test\n",
        "            ks_stat, p_value = ks_2samp(predictions, reference_predictions)\n",
        "            print(f\"\\n🔍 KS Test Results:\")\n",
        "            print(f\"   KS Statistic: {ks_stat:.4f}\")\n",
        "            print(f\"   P-value: {p_value:.4f}\")\n",
        "            print(f\"   Distribution Change: {'YES' if p_value < 0.05 else 'NO'}\")\n",
        "        \n",
        "        # Visualization\n",
        "        plt.figure(figsize=(12, 6))\n",
        "        \n",
        "        plt.hist(predictions, bins=50, alpha=0.7, label='Current', density=True)\n",
        "        if reference_predictions is not None:\n",
        "            plt.hist(reference_predictions, bins=50, alpha=0.7, label='Reference', density=True)\n",
        "        \n",
        "        plt.xlabel('Prediction Values')\n",
        "        plt.ylabel('Density')\n",
        "        plt.title('Prediction Distribution Comparison')\n",
        "        plt.legend()\n",
        "        plt.grid(True, alpha=0.3)\n",
        "        plt.show()\n",
        "        \n",
        "        return {\n",
        "            'current_stats': {\n",
        "                'mean': np.mean(predictions),\n",
        "                'std': np.std(predictions),\n",
        "                'min': np.min(predictions),\n",
        "                'max': np.max(predictions)\n",
        "            },\n",
        "            'ks_test': {'statistic': ks_stat, 'p_value': p_value} if reference_predictions is not None else None\n",
        "        }\n",
        "    \n",
        "    def model_stability_analysis(self, model, test_data, test_labels, n_bootstrap=100):\n",
        "        \"\"\"Model kararlılık analizi\"\"\"\n",
        "        print(\"🔒 Model Stability Analysis\")\n",
        "        print(\"-\" * 40)\n",
        "        \n",
        "        bootstrap_scores = []\n",
        "        \n",
        "        for i in range(n_bootstrap):\n",
        "            # Bootstrap sampling\n",
        "            indices = np.random.choice(len(test_data), len(test_data), replace=True)\n",
        "            bootstrap_data = test_data[indices]\n",
        "            bootstrap_labels = test_labels[indices]\n",
        "            \n",
        "            # Prediction ve score\n",
        "            pred = model.predict(bootstrap_data)\n",
        "            score = r2_score(bootstrap_labels, pred)\n",
        "            bootstrap_scores.append(score)\n",
        "        \n",
        "        # İstatistikler\n",
        "        mean_score = np.mean(bootstrap_scores)\n",
        "        std_score = np.std(bootstrap_scores)\n",
        "        ci_lower = np.percentile(bootstrap_scores, 2.5)\n",
        "        ci_upper = np.percentile(bootstrap_scores, 97.5)\n",
        "        \n",
        "        print(f\"📊 Bootstrap Results ({n_bootstrap} iterations):\")\n",
        "        print(f\"   Mean R²: {mean_score:.4f}\")\n",
        "        print(f\"   Std R²:  {std_score:.4f}\")\n",
        "        print(f\"   95% CI:  [{ci_lower:.4f}, {ci_upper:.4f}]\")\n",
        "        \n",
        "        # Stability score\n",
        "        stability_score = 1 - (std_score / mean_score) if mean_score > 0 else 0\n",
        "        print(f\"   Stability Score: {stability_score:.4f}\")\n",
        "        \n",
        "        if stability_score > 0.95:\n",
        "            print(\"✅ Model is highly stable\")\n",
        "        elif stability_score > 0.90:\n",
        "            print(\"🟡 Model is moderately stable\")\n",
        "        else:\n",
        "            print(\"🔴 Model stability is concerning\")\n",
        "        \n",
        "        # Visualization\n",
        "        plt.figure(figsize=(10, 6))\n",
        "        plt.hist(bootstrap_scores, bins=30, alpha=0.7, edgecolor='black')\n",
        "        plt.axvline(mean_score, color='red', linestyle='--', label=f'Mean: {mean_score:.4f}')\n",
        "        plt.axvline(ci_lower, color='orange', linestyle='--', label=f'95% CI: [{ci_lower:.4f}, {ci_upper:.4f}]')\n",
        "        plt.axvline(ci_upper, color='orange', linestyle='--')\n",
        "        plt.xlabel('R² Score')\n",
        "        plt.ylabel('Frequency')\n",
        "        plt.title('Model Stability Analysis - Bootstrap Distribution')\n",
        "        plt.legend()\n",
        "        plt.grid(True, alpha=0.3)\n",
        "        plt.show()\n",
        "        \n",
        "        return {\n",
        "            'mean_score': mean_score,\n",
        "            'std_score': std_score,\n",
        "            'ci_lower': ci_lower,\n",
        "            'ci_upper': ci_upper,\n",
        "            'stability_score': stability_score,\n",
        "            'bootstrap_scores': bootstrap_scores\n",
        "        }\n",
        "\n",
        "# Advanced monitoring'i başlat\n",
        "advanced_monitor = AdvancedMonitoring(monitor)\n",
        "print(\"✅ Advanced monitoring hazır!\")\n"
      ]
    },
    {
      "cell_type": "raw",
      "metadata": {
        "vscode": {
          "languageId": "raw"
        }
      },
      "source": [
        "## 7. Advanced Monitoring Demo\n",
        "\n",
        "İleri seviye monitoring tekniklerini test edelim:\n"
      ]
    },
    {
      "cell_type": "code",
      "execution_count": 8,
      "metadata": {},
      "outputs": [
        {
          "name": "stdout",
          "output_type": "stream",
          "text": [
            "🚀 Advanced Monitoring Demo\n",
            "==================================================\n",
            "\n",
            "🔄 1. Model Comparison\n",
            "------------------------------\n",
            "🔄 Model Comparison Analysis\n",
            "----------------------------------------\n",
            "📊 Model v1.0:\n",
            "   MSE: 0.2554\n",
            "   R²:  0.8051\n",
            "📊 Model v2.0:\n",
            "   MSE: 0.2951\n",
            "   R²:  0.7748\n",
            "\n",
            "🏆 Winner: Model v1.0\n",
            "📈 Improvement: 0.0303 R² points\n"
          ]
        },
        {
          "data": {
            "image/png": "[encoded data removed]",
            "text/plain": [
              "<Figure size 1500x600 with 2 Axes>"
            ]
          },
          "metadata": {},
          "output_type": "display_data"
        },
        {
          "name": "stdout",
          "output_type": "stream",
          "text": [
            "🏆 Winner: Model v1.0\n",
            "📈 Performance improvement: 0.0303\n",
            "\n",
            "🔍 2. Feature Importance Monitoring\n",
            "------------------------------\n",
            "🔍 Feature Importance Monitoring\n",
            "----------------------------------------\n",
            "📊 Top 10 Most Important Features:\n",
            "   MedInc: 0.5948\n",
            "   AveOccup: 0.1395\n",
            "   Latitude: 0.0764\n",
            "   Longitude: 0.0758\n",
            "   HouseAge: 0.0478\n",
            "   AveRooms: 0.0315\n",
            "   Population: 0.0174\n",
            "   AveBedrms: 0.0168\n",
            "\n",
            "📈 Biggest Changes in Feature Importance:\n",
            "   AveOccup: +0.0849\n",
            "   MedInc: +0.0699\n",
            "   Longitude: +0.0462\n",
            "   Latitude: +0.0322\n",
            "   HouseAge: +0.0172\n"
          ]
        },
        {
          "data": {
            "image/png": "[encoded data removed]",
            "text/plain": [
              "<Figure size 1200x800 with 1 Axes>"
            ]
          },
          "metadata": {},
          "output_type": "display_data"
        },
        {
          "name": "stdout",
          "output_type": "stream",
          "text": [
            "\n",
            "📊 3. Prediction Distribution Monitoring\n",
            "------------------------------\n",
            "📊 Prediction Distribution Monitoring\n",
            "----------------------------------------\n",
            "📈 Current Predictions Statistics:\n",
            "   Mean: 2.0591\n",
            "   Std:  0.9743\n",
            "   Min:  0.5499\n",
            "   Max:  4.9957\n",
            "\n",
            "📈 Reference Predictions Statistics:\n",
            "   Mean: 2.0674\n",
            "   Std:  1.0077\n",
            "   Min:  0.4884\n",
            "   Max:  5.0000\n",
            "\n",
            "🔍 KS Test Results:\n",
            "   KS Statistic: 0.0245\n",
            "   P-value: 0.1689\n",
            "   Distribution Change: NO\n"
          ]
        },
        {
          "data": {
            "image/png": "[encoded data removed]",
            "text/plain": [
              "<Figure size 1200x600 with 1 Axes>"
            ]
          },
          "metadata": {},
          "output_type": "display_data"
        },
        {
          "name": "stdout",
          "output_type": "stream",
          "text": [
            "\n",
            "🔒 4. Model Stability Analysis\n",
            "------------------------------\n",
            "🔒 Model Stability Analysis\n",
            "----------------------------------------\n",
            "📊 Bootstrap Results (50 iterations):\n",
            "   Mean R²: 0.7765\n",
            "   Std R²:  0.0087\n",
            "   95% CI:  [0.7598, 0.7942]\n",
            "   Stability Score: 0.9888\n",
            "✅ Model is highly stable\n"
          ]
        },
        {
          "data": {
            "image/png": "[encoded data removed]",
            "text/plain": [
              "<Figure size 1000x600 with 1 Axes>"
            ]
          },
          "metadata": {},
          "output_type": "display_data"
        },
        {
          "name": "stdout",
          "output_type": "stream",
          "text": [
            "✅ Model stability score: 0.9888\n",
            "\n",
            "📋 5. Advanced Monitoring Report\n",
            "------------------------------\n",
            "📊 ADVANCED MONITORING SUMMARY\n",
            "========================================\n",
            "\n",
            "🔄 Model Comparison:\n",
            "   Best Model: Model v1.0\n",
            "   Performance Gap: 0.0303 R²\n",
            "\n",
            "🔍 Feature Importance:\n",
            "   Most Important Feature: MedInc\n",
            "   Importance Score: 0.5948\n",
            "\n",
            "📊 Prediction Distribution:\n",
            "   Distribution Change: NO\n",
            "   KS Test P-value: 0.1689\n",
            "\n",
            "🔒 Model Stability:\n",
            "   Stability Score: 0.9888\n",
            "   95% Confidence Interval: [0.7598, 0.7942]\n",
            "\n",
            "💡 Recommendations:\n",
            "   ✅ Consider deploying the new model version\n",
            "   ✅ Model is stable and ready for production\n",
            "   ✅ Prediction distribution is consistent\n",
            "\n",
            "==================================================\n",
            "🎉 Advanced Monitoring Demo Completed!\n",
            "==================================================\n"
          ]
        }
      ],
      "source": [
        "# 🚀 Advanced Monitoring Demo\n",
        "\n",
        "print(\"🚀 Advanced Monitoring Demo\")\n",
        "print(\"=\" * 50)\n",
        "\n",
        "# 1. Model Comparison\n",
        "print(\"\\n🔄 1. Model Comparison\")\n",
        "print(\"-\" * 30)\n",
        "\n",
        "# İkinci bir model eğit (farklı parametrelerle)\n",
        "model_v2 = RandomForestRegressor(n_estimators=200, max_depth=10, random_state=42)\n",
        "model_v2.fit(X_train, y_train)\n",
        "\n",
        "# Model karşılaştırması\n",
        "comparison_results = advanced_monitor.model_comparison(\n",
        "    model, model_v2, X_test, y_test, \n",
        "    model_names=['Model v1.0', 'Model v2.0']\n",
        ")\n",
        "\n",
        "print(f\"🏆 Winner: {comparison_results['winner']}\")\n",
        "print(f\"📈 Performance improvement: {comparison_results['improvement']:.4f}\")\n",
        "\n",
        "# 2. Feature Importance Monitoring\n",
        "print(\"\\n🔍 2. Feature Importance Monitoring\")\n",
        "print(\"-\" * 30)\n",
        "\n",
        "# Baseline feature importance\n",
        "baseline_importance = model.feature_importances_\n",
        "\n",
        "# Current model importance\n",
        "importance_analysis = advanced_monitor.feature_importance_monitoring(\n",
        "    model_v2, feature_names, reference_importance=baseline_importance\n",
        ")\n",
        "\n",
        "# 3. Prediction Distribution Monitoring\n",
        "print(\"\\n📊 3. Prediction Distribution Monitoring\")\n",
        "print(\"-\" * 30)\n",
        "\n",
        "# Baseline predictions\n",
        "baseline_predictions = model.predict(X_test)\n",
        "\n",
        "# Current predictions\n",
        "current_predictions = model_v2.predict(X_test)\n",
        "\n",
        "# Distribution monitoring\n",
        "distribution_analysis = advanced_monitor.prediction_distribution_monitoring(\n",
        "    current_predictions, baseline_predictions\n",
        ")\n",
        "\n",
        "# 4. Model Stability Analysis\n",
        "print(\"\\n🔒 4. Model Stability Analysis\")\n",
        "print(\"-\" * 30)\n",
        "\n",
        "# Model stability analizi\n",
        "stability_analysis = advanced_monitor.model_stability_analysis(\n",
        "    model_v2, X_test, y_test, n_bootstrap=50\n",
        ")\n",
        "\n",
        "print(f\"✅ Model stability score: {stability_analysis['stability_score']:.4f}\")\n",
        "\n",
        "# 5. Comprehensive Advanced Report\n",
        "print(\"\\n📋 5. Advanced Monitoring Report\")\n",
        "print(\"-\" * 30)\n",
        "\n",
        "print(\"📊 ADVANCED MONITORING SUMMARY\")\n",
        "print(\"=\" * 40)\n",
        "\n",
        "print(f\"\\n🔄 Model Comparison:\")\n",
        "print(f\"   Best Model: {comparison_results['winner']}\")\n",
        "print(f\"   Performance Gap: {comparison_results['improvement']:.4f} R²\")\n",
        "\n",
        "print(f\"\\n🔍 Feature Importance:\")\n",
        "if importance_analysis is not None:\n",
        "    top_feature = importance_analysis.iloc[0]\n",
        "    print(f\"   Most Important Feature: {top_feature['feature']}\")\n",
        "    print(f\"   Importance Score: {top_feature['importance']:.4f}\")\n",
        "\n",
        "print(f\"\\n📊 Prediction Distribution:\")\n",
        "if distribution_analysis['ks_test']:\n",
        "    print(f\"   Distribution Change: {'YES' if distribution_analysis['ks_test']['p_value'] < 0.05 else 'NO'}\")\n",
        "    print(f\"   KS Test P-value: {distribution_analysis['ks_test']['p_value']:.4f}\")\n",
        "\n",
        "print(f\"\\n🔒 Model Stability:\")\n",
        "print(f\"   Stability Score: {stability_analysis['stability_score']:.4f}\")\n",
        "print(f\"   95% Confidence Interval: [{stability_analysis['ci_lower']:.4f}, {stability_analysis['ci_upper']:.4f}]\")\n",
        "\n",
        "# 6. Recommendations\n",
        "print(f\"\\n💡 Recommendations:\")\n",
        "if comparison_results['improvement'] > 0.01:\n",
        "    print(\"   ✅ Consider deploying the new model version\")\n",
        "else:\n",
        "    print(\"   ⚠️ Model improvement is marginal, consider more changes\")\n",
        "\n",
        "if stability_analysis['stability_score'] > 0.95:\n",
        "    print(\"   ✅ Model is stable and ready for production\")\n",
        "elif stability_analysis['stability_score'] > 0.90:\n",
        "    print(\"   🟡 Model stability is acceptable but monitor closely\")\n",
        "else:\n",
        "    print(\"   🔴 Model stability is concerning, investigate further\")\n",
        "\n",
        "if distribution_analysis['ks_test'] and distribution_analysis['ks_test']['p_value'] < 0.05:\n",
        "    print(\"   ⚠️ Significant change in prediction distribution detected\")\n",
        "else:\n",
        "    print(\"   ✅ Prediction distribution is consistent\")\n",
        "\n",
        "print(\"\\n\" + \"=\" * 50)\n",
        "print(\"🎉 Advanced Monitoring Demo Completed!\")\n",
        "print(\"=\" * 50)\n"
      ]
    },
    {
      "cell_type": "raw",
      "metadata": {
        "vscode": {
          "languageId": "raw"
        }
      },
      "source": [
        "## 8. Production Monitoring Best Practices\n",
        "\n",
        "### 🏗️ Monitoring Architecture Best Practices\n",
        "\n",
        "1. **Layered Monitoring**:\n",
        "   - **Infrastructure Layer**: CPU, Memory, Disk, Network\n",
        "   - **Application Layer**: Response time, Throughput, Error rates\n",
        "   - **Model Layer**: Accuracy, Drift, Feature importance\n",
        "   - **Business Layer**: Revenue impact, User satisfaction\n",
        "\n",
        "2. **Real-time vs Batch Monitoring**:\n",
        "   - **Real-time**: Critical alerts, System health\n",
        "   - **Batch**: Detailed analysis, Drift detection, Performance reports\n",
        "\n",
        "3. **Alert Fatigue Prevention**:\n",
        "   - Smart thresholds based on historical data\n",
        "   - Alert prioritization (Critical, High, Medium, Low)\n",
        "   - Alert correlation and grouping\n",
        "   - Automatic alert suppression during known issues\n",
        "\n",
        "4. **Dashboard Design**:\n",
        "   - **Executive Dashboard**: High-level KPIs\n",
        "   - **Operational Dashboard**: Real-time system health\n",
        "   - **Technical Dashboard**: Detailed metrics and logs\n",
        "   - **Business Dashboard**: Impact on business metrics\n",
        "\n",
        "### 📊 Key Metrics to Monitor\n",
        "\n",
        "#### Model Performance Metrics\n",
        "- **Accuracy Metrics**: Precision, Recall, F1-Score, AUC-ROC\n",
        "- **Regression Metrics**: MAE, MSE, RMSE, R²\n",
        "- **Business Metrics**: Revenue impact, Conversion rates\n",
        "- **Latency Metrics**: Response time, Throughput\n",
        "\n",
        "#### Data Quality Metrics\n",
        "- **Completeness**: Missing values, Null percentages\n",
        "- **Consistency**: Data format, Value ranges\n",
        "- **Accuracy**: Data validation, Outlier detection\n",
        "- **Timeliness**: Data freshness, Update frequency\n",
        "\n",
        "#### System Health Metrics\n",
        "- **Infrastructure**: CPU, Memory, Disk usage\n",
        "- **Application**: Error rates, Response times\n",
        "- **Dependencies**: Database, API availability\n",
        "- **Security**: Failed login attempts, Access patterns\n",
        "\n",
        "### 🚨 Alerting Strategy\n",
        "\n",
        "1. **Threshold-based Alerts**:\n",
        "   - Static thresholds for critical metrics\n",
        "   - Dynamic thresholds based on historical patterns\n",
        "   - Seasonal adjustments for business metrics\n",
        "\n",
        "2. **Anomaly Detection Alerts**:\n",
        "   - Statistical anomaly detection\n",
        "   - Machine learning-based anomaly detection\n",
        "   - Time series anomaly detection\n",
        "\n",
        "3. **Composite Alerts**:\n",
        "   - Multiple conditions combined\n",
        "   - Business logic-based alerts\n",
        "   - Cascading failure detection\n",
        "\n",
        "### 📈 Monitoring Lifecycle\n",
        "\n",
        "1. **Planning Phase**:\n",
        "   - Define monitoring requirements\n",
        "   - Identify key stakeholders\n",
        "   - Set up monitoring infrastructure\n",
        "\n",
        "2. **Implementation Phase**:\n",
        "   - Deploy monitoring tools\n",
        "   - Configure dashboards and alerts\n",
        "   - Test monitoring systems\n",
        "\n",
        "3. **Operations Phase**:\n",
        "   - Monitor system health\n",
        "   - Respond to alerts\n",
        "   - Generate reports\n",
        "\n",
        "4. **Optimization Phase**:\n",
        "   - Analyze monitoring effectiveness\n",
        "   - Adjust thresholds and alerts\n",
        "   - Improve dashboards\n",
        "\n",
        "### 🔧 Tools and Technologies\n",
        "\n",
        "#### Open Source Tools\n",
        "- **Prometheus + Grafana**: Metrics collection and visualization\n",
        "- **ELK Stack**: Log aggregation and analysis\n",
        "- **Evidently AI**: ML model monitoring\n",
        "- **MLflow**: ML lifecycle management\n",
        "\n",
        "#### Commercial Tools\n",
        "- **DataDog**: Full-stack monitoring\n",
        "- **New Relic**: Application performance monitoring\n",
        "- **Splunk**: Log analysis and SIEM\n",
        "- **Arize AI**: ML observability\n",
        "\n",
        "#### Cloud-Native Solutions\n",
        "- **AWS CloudWatch**: AWS monitoring\n",
        "- **Azure Monitor**: Azure monitoring\n",
        "- **Google Cloud Monitoring**: GCP monitoring\n",
        "- **Kubernetes Monitoring**: Container orchestration monitoring\n",
        "\n",
        "---\n",
        "\n",
        "## 🎯 Sonuç ve Öneriler\n",
        "\n",
        "Model monitoring, production ML sistemlerinin başarısı için kritik bir bileşendir. Bu bölümde öğrendikleriniz:\n",
        "\n",
        "### ✅ Başarılı Monitoring İçin Gereksinimler:\n",
        "\n",
        "1. **Kapsamlı Monitoring**: Model, data, system ve business metrics\n",
        "2. **Proaktif Alerting**: Sorunları erken tespit etme\n",
        "3. **Görselleştirme**: Anlaşılır dashboards ve raporlar\n",
        "4. **Otomatik Response**: Kritik durumlar için otomatik müdahale\n",
        "5. **Sürekli İyileştirme**: Monitoring sisteminin kendini geliştirmesi\n",
        "\n",
        "### 🚀 Bir Sonraki Adımlar:\n",
        "\n",
        "1. **Level 7 - Advanced MLOps**: CI/CD, Infrastructure as Code, Multi-model deployment\n",
        "2. **Production Deployment**: Gerçek production ortamında monitoring\n",
        "3. **Team Collaboration**: DevOps, DataOps ve MLOps ekip çalışması\n",
        "4. **Governance**: Model governance ve compliance\n",
        "\n",
        "### 💡 Pratik Öneriler:\n",
        "\n",
        "1. **Küçük Başlayın**: Temel metrics ile başlayıp genişletin\n",
        "2. **Stakeholder Alignment**: Tüm ekiplerin monitoring'i anlaması\n",
        "3. **Documentation**: Monitoring süreçlerini dokümante edin\n",
        "4. **Regular Reviews**: Monitoring effectiveness'ini düzenli gözden geçirin\n",
        "5. **Automation**: Mümkün olduğunca otomatikleştirin\n",
        "\n",
        "---\n",
        "\n",
        "🎉 **Tebrikler!** Level 6 - Model Monitoring'i başarıyla tamamladınız!\n"
      ]
    }
  ],
  "metadata": {
    "kernelspec": {
      "display_name": ".venv",
      "language": "python",
      "name": "python3"
    },
    "language_info": {
      "codemirror_mode": {
        "name": "ipython",
        "version": 3
      },
      "file_extension": ".py",
      "mimetype": "text/x-python",
      "name": "python",
      "nbconvert_exporter": "python",
      "pygments_lexer": "ipython3",
      "version": "3.13.2"
    }
  },
  "nbformat": 4,
  "nbformat_minor": 2
}
